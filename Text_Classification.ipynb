{
  "cells": [
    {
      "cell_type": "markdown",
      "metadata": {
        "id": "oHS2-daGWVft"
      },
      "source": [
        "# Preparation"
      ]
    },
    {
      "cell_type": "code",
      "execution_count": null,
      "metadata": {
        "colab": {
          "base_uri": "https://localhost:8080/"
        },
        "id": "PUw_OO4QEjur",
        "outputId": "c5fe53d3-1d09-4346-c48e-e9104a8d6090"
      },
      "outputs": [
        {
          "output_type": "stream",
          "name": "stdout",
          "text": [
            "Looking in indexes: https://pypi.org/simple, https://us-python.pkg.dev/colab-wheels/public/simple/\n",
            "Collecting split_folders\n",
            "  Downloading split_folders-0.5.1-py3-none-any.whl (8.4 kB)\n",
            "Installing collected packages: split-folders\n",
            "Successfully installed split-folders-0.5.1\n"
          ]
        }
      ],
      "source": [
        "import json\n",
        "import numpy as np\n",
        "import pandas as pd\n",
        "import matplotlib.pyplot as plt\n",
        "import tensorflow as tf\n",
        "import zipfile,os\n",
        "import sklearn\n",
        "from sklearn import datasets\n",
        "from sklearn.model_selection import train_test_split\n",
        "!pip install split_folders\n",
        "import splitfolders"
      ]
    },
    {
      "cell_type": "code",
      "execution_count": null,
      "metadata": {
        "colab": {
          "base_uri": "https://localhost:8080/"
        },
        "id": "g96I9JtAFo6-",
        "outputId": "e9235510-ab54-4363-a849-57b00a0c0e57"
      },
      "outputs": [
        {
          "output_type": "stream",
          "name": "stdout",
          "text": [
            "Mounted at /content/drive\n"
          ]
        }
      ],
      "source": [
        "from google.colab import drive\n",
        "drive.mount('/content/drive')"
      ]
    },
    {
      "cell_type": "code",
      "execution_count": null,
      "metadata": {
        "colab": {
          "base_uri": "https://localhost:8080/"
        },
        "id": "3vEHIizpFtYB",
        "outputId": "91c6ab12-d711-466f-912b-bdfc265e7099"
      },
      "outputs": [
        {
          "output_type": "stream",
          "name": "stdout",
          "text": [
            "/content/drive/MyDrive/Dataset Data Science Teti\n"
          ]
        }
      ],
      "source": [
        "%cd '/content/drive/MyDrive/Dataset Data Science Teti'"
      ]
    },
    {
      "cell_type": "code",
      "execution_count": null,
      "metadata": {
        "colab": {
          "base_uri": "https://localhost:8080/"
        },
        "id": "9v4MiXTgTQ-O",
        "outputId": "437bb232-85fb-4d13-ea94-0fc2a247248e"
      },
      "outputs": [
        {
          "output_type": "stream",
          "name": "stderr",
          "text": [
            "[nltk_data] Downloading package stopwords to /root/nltk_data...\n",
            "[nltk_data]   Unzipping corpora/stopwords.zip.\n"
          ]
        }
      ],
      "source": [
        "import re\n",
        "import nltk\n",
        "from sklearn.datasets import load_files\n",
        "nltk.download('stopwords')\n",
        "import pickle\n",
        "from nltk.corpus import stopwords"
      ]
    },
    {
      "cell_type": "code",
      "execution_count": null,
      "metadata": {
        "colab": {
          "base_uri": "https://localhost:8080/"
        },
        "id": "2dFc7n6oGLNI",
        "outputId": "f717417d-10ea-4d4a-d8e1-f4f0d74933c6"
      },
      "outputs": [
        {
          "output_type": "stream",
          "name": "stdout",
          "text": [
            "Looking in indexes: https://pypi.org/simple, https://us-python.pkg.dev/colab-wheels/public/simple/\n",
            "Collecting transformers\n",
            "  Downloading transformers-4.21.1-py3-none-any.whl (4.7 MB)\n",
            "\u001b[K     |████████████████████████████████| 4.7 MB 8.2 MB/s \n",
            "\u001b[?25hRequirement already satisfied: packaging>=20.0 in /usr/local/lib/python3.7/dist-packages (from transformers) (21.3)\n",
            "Requirement already satisfied: tqdm>=4.27 in /usr/local/lib/python3.7/dist-packages (from transformers) (4.64.0)\n",
            "Requirement already satisfied: numpy>=1.17 in /usr/local/lib/python3.7/dist-packages (from transformers) (1.21.6)\n",
            "Requirement already satisfied: filelock in /usr/local/lib/python3.7/dist-packages (from transformers) (3.7.1)\n",
            "Requirement already satisfied: requests in /usr/local/lib/python3.7/dist-packages (from transformers) (2.23.0)\n",
            "Collecting tokenizers!=0.11.3,<0.13,>=0.11.1\n",
            "  Downloading tokenizers-0.12.1-cp37-cp37m-manylinux_2_12_x86_64.manylinux2010_x86_64.whl (6.6 MB)\n",
            "\u001b[K     |████████████████████████████████| 6.6 MB 52.6 MB/s \n",
            "\u001b[?25hRequirement already satisfied: regex!=2019.12.17 in /usr/local/lib/python3.7/dist-packages (from transformers) (2022.6.2)\n",
            "Requirement already satisfied: importlib-metadata in /usr/local/lib/python3.7/dist-packages (from transformers) (4.12.0)\n",
            "Collecting huggingface-hub<1.0,>=0.1.0\n",
            "  Downloading huggingface_hub-0.8.1-py3-none-any.whl (101 kB)\n",
            "\u001b[K     |████████████████████████████████| 101 kB 9.7 MB/s \n",
            "\u001b[?25hCollecting pyyaml>=5.1\n",
            "  Downloading PyYAML-6.0-cp37-cp37m-manylinux_2_5_x86_64.manylinux1_x86_64.manylinux_2_12_x86_64.manylinux2010_x86_64.whl (596 kB)\n",
            "\u001b[K     |████████████████████████████████| 596 kB 70.9 MB/s \n",
            "\u001b[?25hRequirement already satisfied: typing-extensions>=3.7.4.3 in /usr/local/lib/python3.7/dist-packages (from huggingface-hub<1.0,>=0.1.0->transformers) (4.1.1)\n",
            "Requirement already satisfied: pyparsing!=3.0.5,>=2.0.2 in /usr/local/lib/python3.7/dist-packages (from packaging>=20.0->transformers) (3.0.9)\n",
            "Requirement already satisfied: zipp>=0.5 in /usr/local/lib/python3.7/dist-packages (from importlib-metadata->transformers) (3.8.1)\n",
            "Requirement already satisfied: idna<3,>=2.5 in /usr/local/lib/python3.7/dist-packages (from requests->transformers) (2.10)\n",
            "Requirement already satisfied: certifi>=2017.4.17 in /usr/local/lib/python3.7/dist-packages (from requests->transformers) (2022.6.15)\n",
            "Requirement already satisfied: chardet<4,>=3.0.2 in /usr/local/lib/python3.7/dist-packages (from requests->transformers) (3.0.4)\n",
            "Requirement already satisfied: urllib3!=1.25.0,!=1.25.1,<1.26,>=1.21.1 in /usr/local/lib/python3.7/dist-packages (from requests->transformers) (1.24.3)\n",
            "Installing collected packages: pyyaml, tokenizers, huggingface-hub, transformers\n",
            "  Attempting uninstall: pyyaml\n",
            "    Found existing installation: PyYAML 3.13\n",
            "    Uninstalling PyYAML-3.13:\n",
            "      Successfully uninstalled PyYAML-3.13\n",
            "Successfully installed huggingface-hub-0.8.1 pyyaml-6.0 tokenizers-0.12.1 transformers-4.21.1\n"
          ]
        }
      ],
      "source": [
        "pip install transformers"
      ]
    },
    {
      "cell_type": "code",
      "execution_count": null,
      "metadata": {
        "id": "6u8H4IZdHbN7"
      },
      "outputs": [],
      "source": [
        "import os, sys\n",
        "\n",
        "import random\n",
        "import numpy as np\n",
        "import pandas as pd\n",
        "from tqdm import tqdm\n",
        "import re\n",
        "import string\n",
        "\n",
        "import torch\n",
        "import torch.nn as nn\n",
        "import torch.nn.functional as F\n",
        "from torch.autograd import Variable\n",
        "from torch import optim\n",
        "\n",
        "import transformers\n",
        "from transformers import AutoTokenizer, AutoModel\n",
        "from transformers import BertForSequenceClassification, BertTokenizer, BertConfig\n",
        "from transformers import AlbertForSequenceClassification, AlbertTokenizer, AlbertConfig\n",
        "from nltk.tokenize import TweetTokenizer, word_tokenize\n",
        "\n",
        "# from utils.forward_fn import forward_sequence_classification\n",
        "# from utils.metrics import document_sentiment_metrics_fn\n",
        "# from utils.data_utils import DocumentSentimentDataset, DocumentSentimentDataLoader\n",
        "# from utils.data_utils import EmotionDetectionDataset, EmotionDetectionDataLoader\n",
        "from torch.utils.data import Dataset, DataLoader\n",
        "from transformers import AutoTokenizer\n",
        "\n",
        "from sklearn.model_selection import train_test_split"
      ]
    },
    {
      "cell_type": "code",
      "execution_count": null,
      "metadata": {
        "colab": {
          "base_uri": "https://localhost:8080/"
        },
        "id": "FX40FOvDHNf6",
        "outputId": "b4ebc1b2-4b28-421d-c381-224814a62c0f"
      },
      "outputs": [
        {
          "output_type": "stream",
          "name": "stderr",
          "text": [
            "[nltk_data] Downloading package punkt to /root/nltk_data...\n",
            "[nltk_data]   Unzipping tokenizers/punkt.zip.\n",
            "[nltk_data] Downloading package averaged_perceptron_tagger to\n",
            "[nltk_data]     /root/nltk_data...\n",
            "[nltk_data]   Unzipping taggers/averaged_perceptron_tagger.zip.\n",
            "[nltk_data] Downloading package stopwords to /root/nltk_data...\n",
            "[nltk_data]   Package stopwords is already up-to-date!\n"
          ]
        }
      ],
      "source": [
        "from time import time\n",
        "import re\n",
        "import sys\n",
        "import csv\n",
        "csv.field_size_limit(sys.maxsize)\n",
        "\n",
        "import seaborn as sns\n",
        "import nltk\n",
        "nltk.download('punkt')\n",
        "nltk.download(\"averaged_perceptron_tagger\")\n",
        "nltk.download('stopwords')\n",
        "stopwords = nltk.corpus.stopwords.words('indonesian')\n",
        "from nltk.corpus import stopwords\n",
        "from nltk.tokenize import word_tokenize\n",
        "\n",
        "import itertools\n",
        "import datetime\n",
        "import pprint\n",
        "import warnings \n",
        "warnings.filterwarnings('ignore')\n",
        "\n",
        "from sklearn.feature_extraction.text import CountVectorizer\n",
        "from sklearn.naive_bayes import MultinomialNB\n",
        "from sklearn.feature_extraction.text import TfidfTransformer\n",
        "from sklearn.ensemble import RandomForestClassifier, ExtraTreesClassifier,AdaBoostClassifier\n",
        "from sklearn.tree import DecisionTreeClassifier"
      ]
    },
    {
      "cell_type": "code",
      "execution_count": null,
      "metadata": {
        "colab": {
          "base_uri": "https://localhost:8080/"
        },
        "id": "yxqWNgoyJseg",
        "outputId": "fe367b39-ac45-4e54-bac4-9fe77d5cdf8d"
      },
      "outputs": [
        {
          "output_type": "stream",
          "name": "stdout",
          "text": [
            "cp: 'data.csv' and '/content/drive/MyDrive/Dataset Data Science Teti/data.csv' are the same file\n"
          ]
        }
      ],
      "source": [
        "pdObj = pd.read_json('Training Labeled Dataset.json')\n",
        "pdObj.to_csv(index=False)\n",
        "pdObj.to_csv('data.csv')\n",
        "!cp data.csv \"/content/drive/MyDrive/Dataset Data Science Teti\""
      ]
    },
    {
      "cell_type": "markdown",
      "metadata": {
        "id": "IIf2MfnEVi6Q"
      },
      "source": [
        "# Cleaning"
      ]
    },
    {
      "cell_type": "markdown",
      "source": [
        "Tahap pertama dalam training data adalah import menggunakan library pandas dan mengetahui jumlah kolom dan baris pada dataset"
      ],
      "metadata": {
        "id": "2y8ey_ORiDtM"
      }
    },
    {
      "cell_type": "code",
      "execution_count": null,
      "metadata": {
        "colab": {
          "base_uri": "https://localhost:8080/",
          "height": 458
        },
        "id": "bV_w0AFaPIg0",
        "outputId": "1f7e50db-b16d-4453-d46d-f4417456f43d"
      },
      "outputs": [
        {
          "output_type": "stream",
          "name": "stdout",
          "text": [
            "There are 169227 rows and 3 columns in the training set\n",
            "There are 169227 rows and 2 columns in the training set after removing empty rows\n"
          ]
        },
        {
          "output_type": "execute_result",
          "data": {
            "text/plain": [
              "               genre                                               text\n",
              "0              Horor  '\\n \\n\\n  gerbang\\n \\n\\n  tumuju\\n \\n\\n  peten...\n",
              "1            Fantasi  Miana terhenyak, seketika mengerti maksud ucap...\n",
              "2       Fiksi Ilmiah  Gabriel tahu betapa kuatnya itu dan membuka ma...\n",
              "3       Fiksi Remaja  Semua itu hanya\\n \\n  semoga.\\n \\n Kita tidak ...\n",
              "4            Fantasi  Mereka akhirnya tiba di sini karena bertemu de...\n",
              "...              ...                                                ...\n",
              "169222       Fantasi  Terlambat. Arelia keburu pergi dari hadapan Da...\n",
              "169223         Horor  \"Hujan ini bukan hujan alami,\" ucap Cakra. \"In...\n",
              "169224  Fiksi Remaja  HAHAHA\\n \\n\\n\\n\\n  Maap\\n \\n\\n  bgt baru up\\n ...\n",
              "169225  Fiksi Ilmiah  \"Memikirkannya, saya belum benar-benar memperh...\n",
              "169226       Fantasi  \"Kalau begitu, apa yang harus Putri ini lakuka...\n",
              "\n",
              "[169227 rows x 2 columns]"
            ],
            "text/html": [
              "\n",
              "  <div id=\"df-870757c6-9cf8-4415-b1f6-861047851b1d\">\n",
              "    <div class=\"colab-df-container\">\n",
              "      <div>\n",
              "<style scoped>\n",
              "    .dataframe tbody tr th:only-of-type {\n",
              "        vertical-align: middle;\n",
              "    }\n",
              "\n",
              "    .dataframe tbody tr th {\n",
              "        vertical-align: top;\n",
              "    }\n",
              "\n",
              "    .dataframe thead th {\n",
              "        text-align: right;\n",
              "    }\n",
              "</style>\n",
              "<table border=\"1\" class=\"dataframe\">\n",
              "  <thead>\n",
              "    <tr style=\"text-align: right;\">\n",
              "      <th></th>\n",
              "      <th>genre</th>\n",
              "      <th>text</th>\n",
              "    </tr>\n",
              "  </thead>\n",
              "  <tbody>\n",
              "    <tr>\n",
              "      <th>0</th>\n",
              "      <td>Horor</td>\n",
              "      <td>'\\n \\n\\n  gerbang\\n \\n\\n  tumuju\\n \\n\\n  peten...</td>\n",
              "    </tr>\n",
              "    <tr>\n",
              "      <th>1</th>\n",
              "      <td>Fantasi</td>\n",
              "      <td>Miana terhenyak, seketika mengerti maksud ucap...</td>\n",
              "    </tr>\n",
              "    <tr>\n",
              "      <th>2</th>\n",
              "      <td>Fiksi Ilmiah</td>\n",
              "      <td>Gabriel tahu betapa kuatnya itu dan membuka ma...</td>\n",
              "    </tr>\n",
              "    <tr>\n",
              "      <th>3</th>\n",
              "      <td>Fiksi Remaja</td>\n",
              "      <td>Semua itu hanya\\n \\n  semoga.\\n \\n Kita tidak ...</td>\n",
              "    </tr>\n",
              "    <tr>\n",
              "      <th>4</th>\n",
              "      <td>Fantasi</td>\n",
              "      <td>Mereka akhirnya tiba di sini karena bertemu de...</td>\n",
              "    </tr>\n",
              "    <tr>\n",
              "      <th>...</th>\n",
              "      <td>...</td>\n",
              "      <td>...</td>\n",
              "    </tr>\n",
              "    <tr>\n",
              "      <th>169222</th>\n",
              "      <td>Fantasi</td>\n",
              "      <td>Terlambat. Arelia keburu pergi dari hadapan Da...</td>\n",
              "    </tr>\n",
              "    <tr>\n",
              "      <th>169223</th>\n",
              "      <td>Horor</td>\n",
              "      <td>\"Hujan ini bukan hujan alami,\" ucap Cakra. \"In...</td>\n",
              "    </tr>\n",
              "    <tr>\n",
              "      <th>169224</th>\n",
              "      <td>Fiksi Remaja</td>\n",
              "      <td>HAHAHA\\n \\n\\n\\n\\n  Maap\\n \\n\\n  bgt baru up\\n ...</td>\n",
              "    </tr>\n",
              "    <tr>\n",
              "      <th>169225</th>\n",
              "      <td>Fiksi Ilmiah</td>\n",
              "      <td>\"Memikirkannya, saya belum benar-benar memperh...</td>\n",
              "    </tr>\n",
              "    <tr>\n",
              "      <th>169226</th>\n",
              "      <td>Fantasi</td>\n",
              "      <td>\"Kalau begitu, apa yang harus Putri ini lakuka...</td>\n",
              "    </tr>\n",
              "  </tbody>\n",
              "</table>\n",
              "<p>169227 rows × 2 columns</p>\n",
              "</div>\n",
              "      <button class=\"colab-df-convert\" onclick=\"convertToInteractive('df-870757c6-9cf8-4415-b1f6-861047851b1d')\"\n",
              "              title=\"Convert this dataframe to an interactive table.\"\n",
              "              style=\"display:none;\">\n",
              "        \n",
              "  <svg xmlns=\"http://www.w3.org/2000/svg\" height=\"24px\"viewBox=\"0 0 24 24\"\n",
              "       width=\"24px\">\n",
              "    <path d=\"M0 0h24v24H0V0z\" fill=\"none\"/>\n",
              "    <path d=\"M18.56 5.44l.94 2.06.94-2.06 2.06-.94-2.06-.94-.94-2.06-.94 2.06-2.06.94zm-11 1L8.5 8.5l.94-2.06 2.06-.94-2.06-.94L8.5 2.5l-.94 2.06-2.06.94zm10 10l.94 2.06.94-2.06 2.06-.94-2.06-.94-.94-2.06-.94 2.06-2.06.94z\"/><path d=\"M17.41 7.96l-1.37-1.37c-.4-.4-.92-.59-1.43-.59-.52 0-1.04.2-1.43.59L10.3 9.45l-7.72 7.72c-.78.78-.78 2.05 0 2.83L4 21.41c.39.39.9.59 1.41.59.51 0 1.02-.2 1.41-.59l7.78-7.78 2.81-2.81c.8-.78.8-2.07 0-2.86zM5.41 20L4 18.59l7.72-7.72 1.47 1.35L5.41 20z\"/>\n",
              "  </svg>\n",
              "      </button>\n",
              "      \n",
              "  <style>\n",
              "    .colab-df-container {\n",
              "      display:flex;\n",
              "      flex-wrap:wrap;\n",
              "      gap: 12px;\n",
              "    }\n",
              "\n",
              "    .colab-df-convert {\n",
              "      background-color: #E8F0FE;\n",
              "      border: none;\n",
              "      border-radius: 50%;\n",
              "      cursor: pointer;\n",
              "      display: none;\n",
              "      fill: #1967D2;\n",
              "      height: 32px;\n",
              "      padding: 0 0 0 0;\n",
              "      width: 32px;\n",
              "    }\n",
              "\n",
              "    .colab-df-convert:hover {\n",
              "      background-color: #E2EBFA;\n",
              "      box-shadow: 0px 1px 2px rgba(60, 64, 67, 0.3), 0px 1px 3px 1px rgba(60, 64, 67, 0.15);\n",
              "      fill: #174EA6;\n",
              "    }\n",
              "\n",
              "    [theme=dark] .colab-df-convert {\n",
              "      background-color: #3B4455;\n",
              "      fill: #D2E3FC;\n",
              "    }\n",
              "\n",
              "    [theme=dark] .colab-df-convert:hover {\n",
              "      background-color: #434B5C;\n",
              "      box-shadow: 0px 1px 3px 1px rgba(0, 0, 0, 0.15);\n",
              "      filter: drop-shadow(0px 1px 2px rgba(0, 0, 0, 0.3));\n",
              "      fill: #FFFFFF;\n",
              "    }\n",
              "  </style>\n",
              "\n",
              "      <script>\n",
              "        const buttonEl =\n",
              "          document.querySelector('#df-870757c6-9cf8-4415-b1f6-861047851b1d button.colab-df-convert');\n",
              "        buttonEl.style.display =\n",
              "          google.colab.kernel.accessAllowed ? 'block' : 'none';\n",
              "\n",
              "        async function convertToInteractive(key) {\n",
              "          const element = document.querySelector('#df-870757c6-9cf8-4415-b1f6-861047851b1d');\n",
              "          const dataTable =\n",
              "            await google.colab.kernel.invokeFunction('convertToInteractive',\n",
              "                                                     [key], {});\n",
              "          if (!dataTable) return;\n",
              "\n",
              "          const docLinkHtml = 'Like what you see? Visit the ' +\n",
              "            '<a target=\"_blank\" href=https://colab.research.google.com/notebooks/data_table.ipynb>data table notebook</a>'\n",
              "            + ' to learn more about interactive tables.';\n",
              "          element.innerHTML = '';\n",
              "          dataTable['output_type'] = 'display_data';\n",
              "          await google.colab.output.renderOutput(dataTable, element);\n",
              "          const docLink = document.createElement('div');\n",
              "          docLink.innerHTML = docLinkHtml;\n",
              "          element.appendChild(docLink);\n",
              "        }\n",
              "      </script>\n",
              "    </div>\n",
              "  </div>\n",
              "  "
            ]
          },
          "metadata": {},
          "execution_count": 9
        }
      ],
      "source": [
        "df = pd.read_csv('data.csv',header = 0, lineterminator ='\\n')\n",
        "df = df.applymap(lambda x:x.strip() if isinstance(x,str) else x)\n",
        "nRow, nCol = df.shape\n",
        "print(f'There are {nRow} rows and {nCol} columns in the training set')\n",
        "df = df.drop(['Unnamed: 0'],axis = 1)\n",
        "df.dropna(axis = 0, how='all', inplace = True)\n",
        "nRow, nCol = df.shape\n",
        "print(f'There are {nRow} rows and {nCol} columns in the training set after removing empty rows')\n",
        "\n",
        "df"
      ]
    },
    {
      "cell_type": "code",
      "execution_count": null,
      "metadata": {
        "colab": {
          "base_uri": "https://localhost:8080/",
          "height": 458
        },
        "id": "BEuGqJdLAVz4",
        "outputId": "9ac4ff40-2ab9-4a15-f904-246f4b30a94f"
      },
      "outputs": [
        {
          "output_type": "stream",
          "name": "stdout",
          "text": [
            "There are 169227 rows and 2 columns in the training set\n",
            "There are 169227 rows and 2 columns in the training set after removing empty rows\n"
          ]
        },
        {
          "output_type": "execute_result",
          "data": {
            "text/plain": [
              "               genre                                               text\n",
              "0              Horor  '\\n \\n\\n  gerbang\\n \\n\\n  tumuju\\n \\n\\n  peten...\n",
              "1            Fantasi  Miana terhenyak, seketika mengerti maksud ucap...\n",
              "2       Fiksi Ilmiah  Gabriel tahu betapa kuatnya itu dan membuka ma...\n",
              "3       Fiksi Remaja  Semua itu hanya\\n \\n  semoga.\\n \\n Kita tidak ...\n",
              "4            Fantasi  Mereka akhirnya tiba di sini karena bertemu de...\n",
              "...              ...                                                ...\n",
              "169222       Fantasi  Terlambat. Arelia keburu pergi dari hadapan Da...\n",
              "169223         Horor  \"Hujan ini bukan hujan alami,\" ucap Cakra. \"In...\n",
              "169224  Fiksi Remaja  HAHAHA\\n \\n\\n\\n\\n  Maap\\n \\n\\n  bgt baru up\\n ...\n",
              "169225  Fiksi Ilmiah  \"Memikirkannya, saya belum benar-benar memperh...\n",
              "169226       Fantasi  \"Kalau begitu, apa yang harus Putri ini lakuka...\n",
              "\n",
              "[169227 rows x 2 columns]"
            ],
            "text/html": [
              "\n",
              "  <div id=\"df-f5621bee-a7a2-4b29-ae2d-5b7b5e9cda91\">\n",
              "    <div class=\"colab-df-container\">\n",
              "      <div>\n",
              "<style scoped>\n",
              "    .dataframe tbody tr th:only-of-type {\n",
              "        vertical-align: middle;\n",
              "    }\n",
              "\n",
              "    .dataframe tbody tr th {\n",
              "        vertical-align: top;\n",
              "    }\n",
              "\n",
              "    .dataframe thead th {\n",
              "        text-align: right;\n",
              "    }\n",
              "</style>\n",
              "<table border=\"1\" class=\"dataframe\">\n",
              "  <thead>\n",
              "    <tr style=\"text-align: right;\">\n",
              "      <th></th>\n",
              "      <th>genre</th>\n",
              "      <th>text</th>\n",
              "    </tr>\n",
              "  </thead>\n",
              "  <tbody>\n",
              "    <tr>\n",
              "      <th>0</th>\n",
              "      <td>Horor</td>\n",
              "      <td>'\\n \\n\\n  gerbang\\n \\n\\n  tumuju\\n \\n\\n  peten...</td>\n",
              "    </tr>\n",
              "    <tr>\n",
              "      <th>1</th>\n",
              "      <td>Fantasi</td>\n",
              "      <td>Miana terhenyak, seketika mengerti maksud ucap...</td>\n",
              "    </tr>\n",
              "    <tr>\n",
              "      <th>2</th>\n",
              "      <td>Fiksi Ilmiah</td>\n",
              "      <td>Gabriel tahu betapa kuatnya itu dan membuka ma...</td>\n",
              "    </tr>\n",
              "    <tr>\n",
              "      <th>3</th>\n",
              "      <td>Fiksi Remaja</td>\n",
              "      <td>Semua itu hanya\\n \\n  semoga.\\n \\n Kita tidak ...</td>\n",
              "    </tr>\n",
              "    <tr>\n",
              "      <th>4</th>\n",
              "      <td>Fantasi</td>\n",
              "      <td>Mereka akhirnya tiba di sini karena bertemu de...</td>\n",
              "    </tr>\n",
              "    <tr>\n",
              "      <th>...</th>\n",
              "      <td>...</td>\n",
              "      <td>...</td>\n",
              "    </tr>\n",
              "    <tr>\n",
              "      <th>169222</th>\n",
              "      <td>Fantasi</td>\n",
              "      <td>Terlambat. Arelia keburu pergi dari hadapan Da...</td>\n",
              "    </tr>\n",
              "    <tr>\n",
              "      <th>169223</th>\n",
              "      <td>Horor</td>\n",
              "      <td>\"Hujan ini bukan hujan alami,\" ucap Cakra. \"In...</td>\n",
              "    </tr>\n",
              "    <tr>\n",
              "      <th>169224</th>\n",
              "      <td>Fiksi Remaja</td>\n",
              "      <td>HAHAHA\\n \\n\\n\\n\\n  Maap\\n \\n\\n  bgt baru up\\n ...</td>\n",
              "    </tr>\n",
              "    <tr>\n",
              "      <th>169225</th>\n",
              "      <td>Fiksi Ilmiah</td>\n",
              "      <td>\"Memikirkannya, saya belum benar-benar memperh...</td>\n",
              "    </tr>\n",
              "    <tr>\n",
              "      <th>169226</th>\n",
              "      <td>Fantasi</td>\n",
              "      <td>\"Kalau begitu, apa yang harus Putri ini lakuka...</td>\n",
              "    </tr>\n",
              "  </tbody>\n",
              "</table>\n",
              "<p>169227 rows × 2 columns</p>\n",
              "</div>\n",
              "      <button class=\"colab-df-convert\" onclick=\"convertToInteractive('df-f5621bee-a7a2-4b29-ae2d-5b7b5e9cda91')\"\n",
              "              title=\"Convert this dataframe to an interactive table.\"\n",
              "              style=\"display:none;\">\n",
              "        \n",
              "  <svg xmlns=\"http://www.w3.org/2000/svg\" height=\"24px\"viewBox=\"0 0 24 24\"\n",
              "       width=\"24px\">\n",
              "    <path d=\"M0 0h24v24H0V0z\" fill=\"none\"/>\n",
              "    <path d=\"M18.56 5.44l.94 2.06.94-2.06 2.06-.94-2.06-.94-.94-2.06-.94 2.06-2.06.94zm-11 1L8.5 8.5l.94-2.06 2.06-.94-2.06-.94L8.5 2.5l-.94 2.06-2.06.94zm10 10l.94 2.06.94-2.06 2.06-.94-2.06-.94-.94-2.06-.94 2.06-2.06.94z\"/><path d=\"M17.41 7.96l-1.37-1.37c-.4-.4-.92-.59-1.43-.59-.52 0-1.04.2-1.43.59L10.3 9.45l-7.72 7.72c-.78.78-.78 2.05 0 2.83L4 21.41c.39.39.9.59 1.41.59.51 0 1.02-.2 1.41-.59l7.78-7.78 2.81-2.81c.8-.78.8-2.07 0-2.86zM5.41 20L4 18.59l7.72-7.72 1.47 1.35L5.41 20z\"/>\n",
              "  </svg>\n",
              "      </button>\n",
              "      \n",
              "  <style>\n",
              "    .colab-df-container {\n",
              "      display:flex;\n",
              "      flex-wrap:wrap;\n",
              "      gap: 12px;\n",
              "    }\n",
              "\n",
              "    .colab-df-convert {\n",
              "      background-color: #E8F0FE;\n",
              "      border: none;\n",
              "      border-radius: 50%;\n",
              "      cursor: pointer;\n",
              "      display: none;\n",
              "      fill: #1967D2;\n",
              "      height: 32px;\n",
              "      padding: 0 0 0 0;\n",
              "      width: 32px;\n",
              "    }\n",
              "\n",
              "    .colab-df-convert:hover {\n",
              "      background-color: #E2EBFA;\n",
              "      box-shadow: 0px 1px 2px rgba(60, 64, 67, 0.3), 0px 1px 3px 1px rgba(60, 64, 67, 0.15);\n",
              "      fill: #174EA6;\n",
              "    }\n",
              "\n",
              "    [theme=dark] .colab-df-convert {\n",
              "      background-color: #3B4455;\n",
              "      fill: #D2E3FC;\n",
              "    }\n",
              "\n",
              "    [theme=dark] .colab-df-convert:hover {\n",
              "      background-color: #434B5C;\n",
              "      box-shadow: 0px 1px 3px 1px rgba(0, 0, 0, 0.15);\n",
              "      filter: drop-shadow(0px 1px 2px rgba(0, 0, 0, 0.3));\n",
              "      fill: #FFFFFF;\n",
              "    }\n",
              "  </style>\n",
              "\n",
              "      <script>\n",
              "        const buttonEl =\n",
              "          document.querySelector('#df-f5621bee-a7a2-4b29-ae2d-5b7b5e9cda91 button.colab-df-convert');\n",
              "        buttonEl.style.display =\n",
              "          google.colab.kernel.accessAllowed ? 'block' : 'none';\n",
              "\n",
              "        async function convertToInteractive(key) {\n",
              "          const element = document.querySelector('#df-f5621bee-a7a2-4b29-ae2d-5b7b5e9cda91');\n",
              "          const dataTable =\n",
              "            await google.colab.kernel.invokeFunction('convertToInteractive',\n",
              "                                                     [key], {});\n",
              "          if (!dataTable) return;\n",
              "\n",
              "          const docLinkHtml = 'Like what you see? Visit the ' +\n",
              "            '<a target=\"_blank\" href=https://colab.research.google.com/notebooks/data_table.ipynb>data table notebook</a>'\n",
              "            + ' to learn more about interactive tables.';\n",
              "          element.innerHTML = '';\n",
              "          dataTable['output_type'] = 'display_data';\n",
              "          await google.colab.output.renderOutput(dataTable, element);\n",
              "          const docLink = document.createElement('div');\n",
              "          docLink.innerHTML = docLinkHtml;\n",
              "          element.appendChild(docLink);\n",
              "        }\n",
              "      </script>\n",
              "    </div>\n",
              "  </div>\n",
              "  "
            ]
          },
          "metadata": {},
          "execution_count": 10
        }
      ],
      "source": [
        "test = pd.read_csv('Prediction Case.csv',header = 0, lineterminator ='\\n')\n",
        "test = test.applymap(lambda x:x.strip() if isinstance(x,str) else x)\n",
        "nRow, nCol = df.shape\n",
        "print(f'There are {nRow} rows and {nCol} columns in the training set')\n",
        "df.dropna(axis = 0, how='all', inplace = True)\n",
        "nRow, nCol = df.shape\n",
        "print(f'There are {nRow} rows and {nCol} columns in the training set after removing empty rows')\n",
        "\n",
        "df"
      ]
    },
    {
      "cell_type": "markdown",
      "source": [
        "Dikarenakan training merupakan pelatihan model machine learning menggunakan data kuantitatif, sehingga genre akan kami valuasi menjadi integer yaitu 0,1,2,3. Setelah itu kami menaruhnya pada kolom baru bernama label"
      ],
      "metadata": {
        "id": "HgGshavoiVqM"
      }
    },
    {
      "cell_type": "code",
      "execution_count": null,
      "metadata": {
        "colab": {
          "base_uri": "https://localhost:8080/",
          "height": 424
        },
        "id": "R7D2yTGfSuls",
        "outputId": "340bfc8c-ac9b-4755-cf5b-89aeafbb895f"
      },
      "outputs": [
        {
          "output_type": "execute_result",
          "data": {
            "text/plain": [
              "               genre                                               text  label\n",
              "0              Horor  '\\n \\n\\n  gerbang\\n \\n\\n  tumuju\\n \\n\\n  peten...      0\n",
              "1            Fantasi  Miana terhenyak, seketika mengerti maksud ucap...      1\n",
              "2       Fiksi Ilmiah  Gabriel tahu betapa kuatnya itu dan membuka ma...      2\n",
              "3       Fiksi Remaja  Semua itu hanya\\n \\n  semoga.\\n \\n Kita tidak ...      3\n",
              "4            Fantasi  Mereka akhirnya tiba di sini karena bertemu de...      1\n",
              "...              ...                                                ...    ...\n",
              "169222       Fantasi  Terlambat. Arelia keburu pergi dari hadapan Da...      1\n",
              "169223         Horor  \"Hujan ini bukan hujan alami,\" ucap Cakra. \"In...      0\n",
              "169224  Fiksi Remaja  HAHAHA\\n \\n\\n\\n\\n  Maap\\n \\n\\n  bgt baru up\\n ...      3\n",
              "169225  Fiksi Ilmiah  \"Memikirkannya, saya belum benar-benar memperh...      2\n",
              "169226       Fantasi  \"Kalau begitu, apa yang harus Putri ini lakuka...      1\n",
              "\n",
              "[169227 rows x 3 columns]"
            ],
            "text/html": [
              "\n",
              "  <div id=\"df-c5546dd5-7141-4cb1-94f8-16fce4b6a517\">\n",
              "    <div class=\"colab-df-container\">\n",
              "      <div>\n",
              "<style scoped>\n",
              "    .dataframe tbody tr th:only-of-type {\n",
              "        vertical-align: middle;\n",
              "    }\n",
              "\n",
              "    .dataframe tbody tr th {\n",
              "        vertical-align: top;\n",
              "    }\n",
              "\n",
              "    .dataframe thead th {\n",
              "        text-align: right;\n",
              "    }\n",
              "</style>\n",
              "<table border=\"1\" class=\"dataframe\">\n",
              "  <thead>\n",
              "    <tr style=\"text-align: right;\">\n",
              "      <th></th>\n",
              "      <th>genre</th>\n",
              "      <th>text</th>\n",
              "      <th>label</th>\n",
              "    </tr>\n",
              "  </thead>\n",
              "  <tbody>\n",
              "    <tr>\n",
              "      <th>0</th>\n",
              "      <td>Horor</td>\n",
              "      <td>'\\n \\n\\n  gerbang\\n \\n\\n  tumuju\\n \\n\\n  peten...</td>\n",
              "      <td>0</td>\n",
              "    </tr>\n",
              "    <tr>\n",
              "      <th>1</th>\n",
              "      <td>Fantasi</td>\n",
              "      <td>Miana terhenyak, seketika mengerti maksud ucap...</td>\n",
              "      <td>1</td>\n",
              "    </tr>\n",
              "    <tr>\n",
              "      <th>2</th>\n",
              "      <td>Fiksi Ilmiah</td>\n",
              "      <td>Gabriel tahu betapa kuatnya itu dan membuka ma...</td>\n",
              "      <td>2</td>\n",
              "    </tr>\n",
              "    <tr>\n",
              "      <th>3</th>\n",
              "      <td>Fiksi Remaja</td>\n",
              "      <td>Semua itu hanya\\n \\n  semoga.\\n \\n Kita tidak ...</td>\n",
              "      <td>3</td>\n",
              "    </tr>\n",
              "    <tr>\n",
              "      <th>4</th>\n",
              "      <td>Fantasi</td>\n",
              "      <td>Mereka akhirnya tiba di sini karena bertemu de...</td>\n",
              "      <td>1</td>\n",
              "    </tr>\n",
              "    <tr>\n",
              "      <th>...</th>\n",
              "      <td>...</td>\n",
              "      <td>...</td>\n",
              "      <td>...</td>\n",
              "    </tr>\n",
              "    <tr>\n",
              "      <th>169222</th>\n",
              "      <td>Fantasi</td>\n",
              "      <td>Terlambat. Arelia keburu pergi dari hadapan Da...</td>\n",
              "      <td>1</td>\n",
              "    </tr>\n",
              "    <tr>\n",
              "      <th>169223</th>\n",
              "      <td>Horor</td>\n",
              "      <td>\"Hujan ini bukan hujan alami,\" ucap Cakra. \"In...</td>\n",
              "      <td>0</td>\n",
              "    </tr>\n",
              "    <tr>\n",
              "      <th>169224</th>\n",
              "      <td>Fiksi Remaja</td>\n",
              "      <td>HAHAHA\\n \\n\\n\\n\\n  Maap\\n \\n\\n  bgt baru up\\n ...</td>\n",
              "      <td>3</td>\n",
              "    </tr>\n",
              "    <tr>\n",
              "      <th>169225</th>\n",
              "      <td>Fiksi Ilmiah</td>\n",
              "      <td>\"Memikirkannya, saya belum benar-benar memperh...</td>\n",
              "      <td>2</td>\n",
              "    </tr>\n",
              "    <tr>\n",
              "      <th>169226</th>\n",
              "      <td>Fantasi</td>\n",
              "      <td>\"Kalau begitu, apa yang harus Putri ini lakuka...</td>\n",
              "      <td>1</td>\n",
              "    </tr>\n",
              "  </tbody>\n",
              "</table>\n",
              "<p>169227 rows × 3 columns</p>\n",
              "</div>\n",
              "      <button class=\"colab-df-convert\" onclick=\"convertToInteractive('df-c5546dd5-7141-4cb1-94f8-16fce4b6a517')\"\n",
              "              title=\"Convert this dataframe to an interactive table.\"\n",
              "              style=\"display:none;\">\n",
              "        \n",
              "  <svg xmlns=\"http://www.w3.org/2000/svg\" height=\"24px\"viewBox=\"0 0 24 24\"\n",
              "       width=\"24px\">\n",
              "    <path d=\"M0 0h24v24H0V0z\" fill=\"none\"/>\n",
              "    <path d=\"M18.56 5.44l.94 2.06.94-2.06 2.06-.94-2.06-.94-.94-2.06-.94 2.06-2.06.94zm-11 1L8.5 8.5l.94-2.06 2.06-.94-2.06-.94L8.5 2.5l-.94 2.06-2.06.94zm10 10l.94 2.06.94-2.06 2.06-.94-2.06-.94-.94-2.06-.94 2.06-2.06.94z\"/><path d=\"M17.41 7.96l-1.37-1.37c-.4-.4-.92-.59-1.43-.59-.52 0-1.04.2-1.43.59L10.3 9.45l-7.72 7.72c-.78.78-.78 2.05 0 2.83L4 21.41c.39.39.9.59 1.41.59.51 0 1.02-.2 1.41-.59l7.78-7.78 2.81-2.81c.8-.78.8-2.07 0-2.86zM5.41 20L4 18.59l7.72-7.72 1.47 1.35L5.41 20z\"/>\n",
              "  </svg>\n",
              "      </button>\n",
              "      \n",
              "  <style>\n",
              "    .colab-df-container {\n",
              "      display:flex;\n",
              "      flex-wrap:wrap;\n",
              "      gap: 12px;\n",
              "    }\n",
              "\n",
              "    .colab-df-convert {\n",
              "      background-color: #E8F0FE;\n",
              "      border: none;\n",
              "      border-radius: 50%;\n",
              "      cursor: pointer;\n",
              "      display: none;\n",
              "      fill: #1967D2;\n",
              "      height: 32px;\n",
              "      padding: 0 0 0 0;\n",
              "      width: 32px;\n",
              "    }\n",
              "\n",
              "    .colab-df-convert:hover {\n",
              "      background-color: #E2EBFA;\n",
              "      box-shadow: 0px 1px 2px rgba(60, 64, 67, 0.3), 0px 1px 3px 1px rgba(60, 64, 67, 0.15);\n",
              "      fill: #174EA6;\n",
              "    }\n",
              "\n",
              "    [theme=dark] .colab-df-convert {\n",
              "      background-color: #3B4455;\n",
              "      fill: #D2E3FC;\n",
              "    }\n",
              "\n",
              "    [theme=dark] .colab-df-convert:hover {\n",
              "      background-color: #434B5C;\n",
              "      box-shadow: 0px 1px 3px 1px rgba(0, 0, 0, 0.15);\n",
              "      filter: drop-shadow(0px 1px 2px rgba(0, 0, 0, 0.3));\n",
              "      fill: #FFFFFF;\n",
              "    }\n",
              "  </style>\n",
              "\n",
              "      <script>\n",
              "        const buttonEl =\n",
              "          document.querySelector('#df-c5546dd5-7141-4cb1-94f8-16fce4b6a517 button.colab-df-convert');\n",
              "        buttonEl.style.display =\n",
              "          google.colab.kernel.accessAllowed ? 'block' : 'none';\n",
              "\n",
              "        async function convertToInteractive(key) {\n",
              "          const element = document.querySelector('#df-c5546dd5-7141-4cb1-94f8-16fce4b6a517');\n",
              "          const dataTable =\n",
              "            await google.colab.kernel.invokeFunction('convertToInteractive',\n",
              "                                                     [key], {});\n",
              "          if (!dataTable) return;\n",
              "\n",
              "          const docLinkHtml = 'Like what you see? Visit the ' +\n",
              "            '<a target=\"_blank\" href=https://colab.research.google.com/notebooks/data_table.ipynb>data table notebook</a>'\n",
              "            + ' to learn more about interactive tables.';\n",
              "          element.innerHTML = '';\n",
              "          dataTable['output_type'] = 'display_data';\n",
              "          await google.colab.output.renderOutput(dataTable, element);\n",
              "          const docLink = document.createElement('div');\n",
              "          docLink.innerHTML = docLinkHtml;\n",
              "          element.appendChild(docLink);\n",
              "        }\n",
              "      </script>\n",
              "    </div>\n",
              "  </div>\n",
              "  "
            ]
          },
          "metadata": {},
          "execution_count": 11
        }
      ],
      "source": [
        "conditions = [\n",
        "    (df['genre'] == \"Horor\"),\n",
        "    (df['genre'] == \"Fantasi\"),\n",
        "    (df['genre'] == \"Fiksi Ilmiah\"),\n",
        "    (df['genre'] == \"Fiksi Remaja\")\n",
        "]\n",
        "\n",
        "values = [0,1,2,3]\n",
        "\n",
        "df['label'] = np.select(conditions, values)\n",
        "df"
      ]
    },
    {
      "cell_type": "markdown",
      "source": [
        "Terdapat 4 Function untuk cleaning text yang menggunakan Regular Expression. Fungsi pertama untuk menghilangkan character yang tidak penting. Fungsi kedua untuk menghilangkan elemen - elemen tertentu seperti \\n yang sangat banyak pada data training.Fungsi ketiga untuk menghilangkan non alphanumeric dan fungsi terakhir untuk menghilangkan stopwords. Hal ini dilakukan agar model dapat memberikan training pada kata yang krusial bagi genre agar model lebih spesifik dalam menganalisa."
      ],
      "metadata": {
        "id": "oDBPIPQ9jA1F"
      }
    },
    {
      "cell_type": "code",
      "execution_count": null,
      "metadata": {
        "id": "XsRmOtZVTdPJ"
      },
      "outputs": [],
      "source": [
        "def remove_unnecessary_char(text):\n",
        "  text = re.sub(\"\\[USERNAME\\]\", \" \", text)\n",
        "  text = re.sub(\"\\[URL\\]\", \" \", text)\n",
        "  text = re.sub(\"\\[SENSITIVE-NO\\]\", \" \", text)\n",
        "  text = re.sub('  +', ' ', text)\n",
        "  return text\n",
        "\n",
        "def preprocess_tweet(text):\n",
        "  text = re.sub('\\n',' ',text) # Remove every '\\n'\n",
        "  text = re.sub('^(\\@\\w+ ?)+',' ',text)\n",
        "  text = re.sub(r'\\@\\w+',' ',text) # Remove every username\n",
        "  text = re.sub('((www\\.[^\\s]+)|(https?://[^\\s]+)|(http?://[^\\s]+))',' ',text) # Remove every URL\n",
        "  text = re.sub('/', ' ', text)\n",
        "  # text = re.sub(r'[^\\w\\s]', '', text)\n",
        "  text = re.sub('  +', ' ', text) # Remove extra spaces\n",
        "  return text\n",
        "    \n",
        "def remove_nonaplhanumeric(text):\n",
        "  text = re.sub('[^0-9a-zA-Z]+', ' ', text) \n",
        "  return text\n",
        "\n",
        "def remove_stopword(text):\n",
        "  text = ' '.join(['' if word in idn_stopwords else word for word in text.split(' ')])\n",
        "  text = re.sub('  +', ' ', text)\n",
        "  text = text.strip()\n",
        "  return text"
      ]
    },
    {
      "cell_type": "code",
      "execution_count": null,
      "metadata": {
        "id": "PJ85yZcrWroR"
      },
      "outputs": [],
      "source": [
        "def preprocess(text, alay = False, tweet = False):\n",
        "  if(tweet):\n",
        "    text = preprocess_tweet(text)\n",
        "  text = remove_unnecessary_char(text)\n",
        "  return text\n",
        "idn_stopwords = stopwords.words('indonesian')"
      ]
    },
    {
      "cell_type": "code",
      "execution_count": null,
      "metadata": {
        "id": "C9DoP3wPXE66"
      },
      "outputs": [],
      "source": [
        "df[\"clean\"] = df[\"text\"].apply(str).apply(preprocess, args = (True, True,))\n",
        "df[\"clean\"] = df[\"clean\"].replace(\"[^a-zA-Z#]\", \" \")\n",
        "df[\"no_stopword_text\"] = df[\"clean\"].apply(remove_nonaplhanumeric).apply(remove_stopword)"
      ]
    },
    {
      "cell_type": "code",
      "execution_count": null,
      "metadata": {
        "colab": {
          "base_uri": "https://localhost:8080/",
          "height": 424
        },
        "id": "OlB5x_lFXdok",
        "outputId": "2e388a36-7a94-4006-ea17-a2b7fbf76649"
      },
      "outputs": [
        {
          "output_type": "execute_result",
          "data": {
            "text/plain": [
              "          genre                                               text  label  \\\n",
              "0         Horor  '\\n \\n\\n  gerbang\\n \\n\\n  tumuju\\n \\n\\n  peten...      0   \n",
              "1       Fantasi  Miana terhenyak, seketika mengerti maksud ucap...      1   \n",
              "2  Fiksi Ilmiah  Gabriel tahu betapa kuatnya itu dan membuka ma...      2   \n",
              "3  Fiksi Remaja  Semua itu hanya\\n \\n  semoga.\\n \\n Kita tidak ...      3   \n",
              "4       Fantasi  Mereka akhirnya tiba di sini karena bertemu de...      1   \n",
              "\n",
              "                                               clean  \\\n",
              "0  ' gerbang tumuju petengan ingkang Nyoto. Terbu...   \n",
              "1  Miana terhenyak, seketika mengerti maksud ucap...   \n",
              "2  Gabriel tahu betapa kuatnya itu dan membuka ma...   \n",
              "3  Semua itu hanya semoga. Kita tidak tau bagaima...   \n",
              "4  Mereka akhirnya tiba di sini karena bertemu de...   \n",
              "\n",
              "                                    no_stopword_text  \n",
              "0  gerbang tumuju petengan ingkang Nyoto Terbukal...  \n",
              "1  Miana terhenyak mengerti maksud ucapan Drayn A...  \n",
              "2  Gabriel betapa kuatnya membuka matanya Mata in...  \n",
              "3  Semua semoga Kita tau Terima takdir Tuhan teta...  \n",
              "4  Mereka bertemu pengemudi kereta berjanggut ram...  "
            ],
            "text/html": [
              "\n",
              "  <div id=\"df-6dc849fe-8635-4ccb-ae71-c4815fb53dcd\">\n",
              "    <div class=\"colab-df-container\">\n",
              "      <div>\n",
              "<style scoped>\n",
              "    .dataframe tbody tr th:only-of-type {\n",
              "        vertical-align: middle;\n",
              "    }\n",
              "\n",
              "    .dataframe tbody tr th {\n",
              "        vertical-align: top;\n",
              "    }\n",
              "\n",
              "    .dataframe thead th {\n",
              "        text-align: right;\n",
              "    }\n",
              "</style>\n",
              "<table border=\"1\" class=\"dataframe\">\n",
              "  <thead>\n",
              "    <tr style=\"text-align: right;\">\n",
              "      <th></th>\n",
              "      <th>genre</th>\n",
              "      <th>text</th>\n",
              "      <th>label</th>\n",
              "      <th>clean</th>\n",
              "      <th>no_stopword_text</th>\n",
              "    </tr>\n",
              "  </thead>\n",
              "  <tbody>\n",
              "    <tr>\n",
              "      <th>0</th>\n",
              "      <td>Horor</td>\n",
              "      <td>'\\n \\n\\n  gerbang\\n \\n\\n  tumuju\\n \\n\\n  peten...</td>\n",
              "      <td>0</td>\n",
              "      <td>' gerbang tumuju petengan ingkang Nyoto. Terbu...</td>\n",
              "      <td>gerbang tumuju petengan ingkang Nyoto Terbukal...</td>\n",
              "    </tr>\n",
              "    <tr>\n",
              "      <th>1</th>\n",
              "      <td>Fantasi</td>\n",
              "      <td>Miana terhenyak, seketika mengerti maksud ucap...</td>\n",
              "      <td>1</td>\n",
              "      <td>Miana terhenyak, seketika mengerti maksud ucap...</td>\n",
              "      <td>Miana terhenyak mengerti maksud ucapan Drayn A...</td>\n",
              "    </tr>\n",
              "    <tr>\n",
              "      <th>2</th>\n",
              "      <td>Fiksi Ilmiah</td>\n",
              "      <td>Gabriel tahu betapa kuatnya itu dan membuka ma...</td>\n",
              "      <td>2</td>\n",
              "      <td>Gabriel tahu betapa kuatnya itu dan membuka ma...</td>\n",
              "      <td>Gabriel betapa kuatnya membuka matanya Mata in...</td>\n",
              "    </tr>\n",
              "    <tr>\n",
              "      <th>3</th>\n",
              "      <td>Fiksi Remaja</td>\n",
              "      <td>Semua itu hanya\\n \\n  semoga.\\n \\n Kita tidak ...</td>\n",
              "      <td>3</td>\n",
              "      <td>Semua itu hanya semoga. Kita tidak tau bagaima...</td>\n",
              "      <td>Semua semoga Kita tau Terima takdir Tuhan teta...</td>\n",
              "    </tr>\n",
              "    <tr>\n",
              "      <th>4</th>\n",
              "      <td>Fantasi</td>\n",
              "      <td>Mereka akhirnya tiba di sini karena bertemu de...</td>\n",
              "      <td>1</td>\n",
              "      <td>Mereka akhirnya tiba di sini karena bertemu de...</td>\n",
              "      <td>Mereka bertemu pengemudi kereta berjanggut ram...</td>\n",
              "    </tr>\n",
              "  </tbody>\n",
              "</table>\n",
              "</div>\n",
              "      <button class=\"colab-df-convert\" onclick=\"convertToInteractive('df-6dc849fe-8635-4ccb-ae71-c4815fb53dcd')\"\n",
              "              title=\"Convert this dataframe to an interactive table.\"\n",
              "              style=\"display:none;\">\n",
              "        \n",
              "  <svg xmlns=\"http://www.w3.org/2000/svg\" height=\"24px\"viewBox=\"0 0 24 24\"\n",
              "       width=\"24px\">\n",
              "    <path d=\"M0 0h24v24H0V0z\" fill=\"none\"/>\n",
              "    <path d=\"M18.56 5.44l.94 2.06.94-2.06 2.06-.94-2.06-.94-.94-2.06-.94 2.06-2.06.94zm-11 1L8.5 8.5l.94-2.06 2.06-.94-2.06-.94L8.5 2.5l-.94 2.06-2.06.94zm10 10l.94 2.06.94-2.06 2.06-.94-2.06-.94-.94-2.06-.94 2.06-2.06.94z\"/><path d=\"M17.41 7.96l-1.37-1.37c-.4-.4-.92-.59-1.43-.59-.52 0-1.04.2-1.43.59L10.3 9.45l-7.72 7.72c-.78.78-.78 2.05 0 2.83L4 21.41c.39.39.9.59 1.41.59.51 0 1.02-.2 1.41-.59l7.78-7.78 2.81-2.81c.8-.78.8-2.07 0-2.86zM5.41 20L4 18.59l7.72-7.72 1.47 1.35L5.41 20z\"/>\n",
              "  </svg>\n",
              "      </button>\n",
              "      \n",
              "  <style>\n",
              "    .colab-df-container {\n",
              "      display:flex;\n",
              "      flex-wrap:wrap;\n",
              "      gap: 12px;\n",
              "    }\n",
              "\n",
              "    .colab-df-convert {\n",
              "      background-color: #E8F0FE;\n",
              "      border: none;\n",
              "      border-radius: 50%;\n",
              "      cursor: pointer;\n",
              "      display: none;\n",
              "      fill: #1967D2;\n",
              "      height: 32px;\n",
              "      padding: 0 0 0 0;\n",
              "      width: 32px;\n",
              "    }\n",
              "\n",
              "    .colab-df-convert:hover {\n",
              "      background-color: #E2EBFA;\n",
              "      box-shadow: 0px 1px 2px rgba(60, 64, 67, 0.3), 0px 1px 3px 1px rgba(60, 64, 67, 0.15);\n",
              "      fill: #174EA6;\n",
              "    }\n",
              "\n",
              "    [theme=dark] .colab-df-convert {\n",
              "      background-color: #3B4455;\n",
              "      fill: #D2E3FC;\n",
              "    }\n",
              "\n",
              "    [theme=dark] .colab-df-convert:hover {\n",
              "      background-color: #434B5C;\n",
              "      box-shadow: 0px 1px 3px 1px rgba(0, 0, 0, 0.15);\n",
              "      filter: drop-shadow(0px 1px 2px rgba(0, 0, 0, 0.3));\n",
              "      fill: #FFFFFF;\n",
              "    }\n",
              "  </style>\n",
              "\n",
              "      <script>\n",
              "        const buttonEl =\n",
              "          document.querySelector('#df-6dc849fe-8635-4ccb-ae71-c4815fb53dcd button.colab-df-convert');\n",
              "        buttonEl.style.display =\n",
              "          google.colab.kernel.accessAllowed ? 'block' : 'none';\n",
              "\n",
              "        async function convertToInteractive(key) {\n",
              "          const element = document.querySelector('#df-6dc849fe-8635-4ccb-ae71-c4815fb53dcd');\n",
              "          const dataTable =\n",
              "            await google.colab.kernel.invokeFunction('convertToInteractive',\n",
              "                                                     [key], {});\n",
              "          if (!dataTable) return;\n",
              "\n",
              "          const docLinkHtml = 'Like what you see? Visit the ' +\n",
              "            '<a target=\"_blank\" href=https://colab.research.google.com/notebooks/data_table.ipynb>data table notebook</a>'\n",
              "            + ' to learn more about interactive tables.';\n",
              "          element.innerHTML = '';\n",
              "          dataTable['output_type'] = 'display_data';\n",
              "          await google.colab.output.renderOutput(dataTable, element);\n",
              "          const docLink = document.createElement('div');\n",
              "          docLink.innerHTML = docLinkHtml;\n",
              "          element.appendChild(docLink);\n",
              "        }\n",
              "      </script>\n",
              "    </div>\n",
              "  </div>\n",
              "  "
            ]
          },
          "metadata": {},
          "execution_count": 15
        }
      ],
      "source": [
        "df.head()"
      ]
    },
    {
      "cell_type": "code",
      "execution_count": null,
      "metadata": {
        "colab": {
          "base_uri": "https://localhost:8080/",
          "height": 424
        },
        "id": "5sTCXQthYD1i",
        "outputId": "2b2f0f05-d0fa-4631-d99a-5e60fd9d026b"
      },
      "outputs": [
        {
          "output_type": "execute_result",
          "data": {
            "text/plain": [
              "        label                                   no_stopword_text\n",
              "0           0  gerbang tumuju petengan ingkang Nyoto Terbukal...\n",
              "1           1  Miana terhenyak mengerti maksud ucapan Drayn A...\n",
              "2           2  Gabriel betapa kuatnya membuka matanya Mata in...\n",
              "3           3  Semua semoga Kita tau Terima takdir Tuhan teta...\n",
              "4           1  Mereka bertemu pengemudi kereta berjanggut ram...\n",
              "...       ...                                                ...\n",
              "169222      1  Terlambat Arelia keburu pergi hadapan Daza Gad...\n",
              "169223      0  Hujan hujan alami Cakra Ini hujan ghaib Perlah...\n",
              "169224      3     HAHAHA Maap bgt up Jan lupa vote oke Aku maksa\n",
              "169225      2  Memikirkannya memperhatikan pergerakannya Inte...\n",
              "169226      1  Kalau Putri lakukan Sihir Ayah Tanya Putri Cle...\n",
              "\n",
              "[169227 rows x 2 columns]"
            ],
            "text/html": [
              "\n",
              "  <div id=\"df-962a0698-5048-4d9e-8586-75742337c6e2\">\n",
              "    <div class=\"colab-df-container\">\n",
              "      <div>\n",
              "<style scoped>\n",
              "    .dataframe tbody tr th:only-of-type {\n",
              "        vertical-align: middle;\n",
              "    }\n",
              "\n",
              "    .dataframe tbody tr th {\n",
              "        vertical-align: top;\n",
              "    }\n",
              "\n",
              "    .dataframe thead th {\n",
              "        text-align: right;\n",
              "    }\n",
              "</style>\n",
              "<table border=\"1\" class=\"dataframe\">\n",
              "  <thead>\n",
              "    <tr style=\"text-align: right;\">\n",
              "      <th></th>\n",
              "      <th>label</th>\n",
              "      <th>no_stopword_text</th>\n",
              "    </tr>\n",
              "  </thead>\n",
              "  <tbody>\n",
              "    <tr>\n",
              "      <th>0</th>\n",
              "      <td>0</td>\n",
              "      <td>gerbang tumuju petengan ingkang Nyoto Terbukal...</td>\n",
              "    </tr>\n",
              "    <tr>\n",
              "      <th>1</th>\n",
              "      <td>1</td>\n",
              "      <td>Miana terhenyak mengerti maksud ucapan Drayn A...</td>\n",
              "    </tr>\n",
              "    <tr>\n",
              "      <th>2</th>\n",
              "      <td>2</td>\n",
              "      <td>Gabriel betapa kuatnya membuka matanya Mata in...</td>\n",
              "    </tr>\n",
              "    <tr>\n",
              "      <th>3</th>\n",
              "      <td>3</td>\n",
              "      <td>Semua semoga Kita tau Terima takdir Tuhan teta...</td>\n",
              "    </tr>\n",
              "    <tr>\n",
              "      <th>4</th>\n",
              "      <td>1</td>\n",
              "      <td>Mereka bertemu pengemudi kereta berjanggut ram...</td>\n",
              "    </tr>\n",
              "    <tr>\n",
              "      <th>...</th>\n",
              "      <td>...</td>\n",
              "      <td>...</td>\n",
              "    </tr>\n",
              "    <tr>\n",
              "      <th>169222</th>\n",
              "      <td>1</td>\n",
              "      <td>Terlambat Arelia keburu pergi hadapan Daza Gad...</td>\n",
              "    </tr>\n",
              "    <tr>\n",
              "      <th>169223</th>\n",
              "      <td>0</td>\n",
              "      <td>Hujan hujan alami Cakra Ini hujan ghaib Perlah...</td>\n",
              "    </tr>\n",
              "    <tr>\n",
              "      <th>169224</th>\n",
              "      <td>3</td>\n",
              "      <td>HAHAHA Maap bgt up Jan lupa vote oke Aku maksa</td>\n",
              "    </tr>\n",
              "    <tr>\n",
              "      <th>169225</th>\n",
              "      <td>2</td>\n",
              "      <td>Memikirkannya memperhatikan pergerakannya Inte...</td>\n",
              "    </tr>\n",
              "    <tr>\n",
              "      <th>169226</th>\n",
              "      <td>1</td>\n",
              "      <td>Kalau Putri lakukan Sihir Ayah Tanya Putri Cle...</td>\n",
              "    </tr>\n",
              "  </tbody>\n",
              "</table>\n",
              "<p>169227 rows × 2 columns</p>\n",
              "</div>\n",
              "      <button class=\"colab-df-convert\" onclick=\"convertToInteractive('df-962a0698-5048-4d9e-8586-75742337c6e2')\"\n",
              "              title=\"Convert this dataframe to an interactive table.\"\n",
              "              style=\"display:none;\">\n",
              "        \n",
              "  <svg xmlns=\"http://www.w3.org/2000/svg\" height=\"24px\"viewBox=\"0 0 24 24\"\n",
              "       width=\"24px\">\n",
              "    <path d=\"M0 0h24v24H0V0z\" fill=\"none\"/>\n",
              "    <path d=\"M18.56 5.44l.94 2.06.94-2.06 2.06-.94-2.06-.94-.94-2.06-.94 2.06-2.06.94zm-11 1L8.5 8.5l.94-2.06 2.06-.94-2.06-.94L8.5 2.5l-.94 2.06-2.06.94zm10 10l.94 2.06.94-2.06 2.06-.94-2.06-.94-.94-2.06-.94 2.06-2.06.94z\"/><path d=\"M17.41 7.96l-1.37-1.37c-.4-.4-.92-.59-1.43-.59-.52 0-1.04.2-1.43.59L10.3 9.45l-7.72 7.72c-.78.78-.78 2.05 0 2.83L4 21.41c.39.39.9.59 1.41.59.51 0 1.02-.2 1.41-.59l7.78-7.78 2.81-2.81c.8-.78.8-2.07 0-2.86zM5.41 20L4 18.59l7.72-7.72 1.47 1.35L5.41 20z\"/>\n",
              "  </svg>\n",
              "      </button>\n",
              "      \n",
              "  <style>\n",
              "    .colab-df-container {\n",
              "      display:flex;\n",
              "      flex-wrap:wrap;\n",
              "      gap: 12px;\n",
              "    }\n",
              "\n",
              "    .colab-df-convert {\n",
              "      background-color: #E8F0FE;\n",
              "      border: none;\n",
              "      border-radius: 50%;\n",
              "      cursor: pointer;\n",
              "      display: none;\n",
              "      fill: #1967D2;\n",
              "      height: 32px;\n",
              "      padding: 0 0 0 0;\n",
              "      width: 32px;\n",
              "    }\n",
              "\n",
              "    .colab-df-convert:hover {\n",
              "      background-color: #E2EBFA;\n",
              "      box-shadow: 0px 1px 2px rgba(60, 64, 67, 0.3), 0px 1px 3px 1px rgba(60, 64, 67, 0.15);\n",
              "      fill: #174EA6;\n",
              "    }\n",
              "\n",
              "    [theme=dark] .colab-df-convert {\n",
              "      background-color: #3B4455;\n",
              "      fill: #D2E3FC;\n",
              "    }\n",
              "\n",
              "    [theme=dark] .colab-df-convert:hover {\n",
              "      background-color: #434B5C;\n",
              "      box-shadow: 0px 1px 3px 1px rgba(0, 0, 0, 0.15);\n",
              "      filter: drop-shadow(0px 1px 2px rgba(0, 0, 0, 0.3));\n",
              "      fill: #FFFFFF;\n",
              "    }\n",
              "  </style>\n",
              "\n",
              "      <script>\n",
              "        const buttonEl =\n",
              "          document.querySelector('#df-962a0698-5048-4d9e-8586-75742337c6e2 button.colab-df-convert');\n",
              "        buttonEl.style.display =\n",
              "          google.colab.kernel.accessAllowed ? 'block' : 'none';\n",
              "\n",
              "        async function convertToInteractive(key) {\n",
              "          const element = document.querySelector('#df-962a0698-5048-4d9e-8586-75742337c6e2');\n",
              "          const dataTable =\n",
              "            await google.colab.kernel.invokeFunction('convertToInteractive',\n",
              "                                                     [key], {});\n",
              "          if (!dataTable) return;\n",
              "\n",
              "          const docLinkHtml = 'Like what you see? Visit the ' +\n",
              "            '<a target=\"_blank\" href=https://colab.research.google.com/notebooks/data_table.ipynb>data table notebook</a>'\n",
              "            + ' to learn more about interactive tables.';\n",
              "          element.innerHTML = '';\n",
              "          dataTable['output_type'] = 'display_data';\n",
              "          await google.colab.output.renderOutput(dataTable, element);\n",
              "          const docLink = document.createElement('div');\n",
              "          docLink.innerHTML = docLinkHtml;\n",
              "          element.appendChild(docLink);\n",
              "        }\n",
              "      </script>\n",
              "    </div>\n",
              "  </div>\n",
              "  "
            ]
          },
          "metadata": {},
          "execution_count": 16
        }
      ],
      "source": [
        "df_clean = df.drop([\"text\",\"genre\",\"clean\"], axis=1)\n",
        "df_clean"
      ]
    },
    {
      "cell_type": "code",
      "execution_count": null,
      "metadata": {
        "colab": {
          "base_uri": "https://localhost:8080/"
        },
        "id": "MhA4PxOwTH5J",
        "outputId": "f05520d7-95a7-4588-a9ed-da52e3b60ca3"
      },
      "outputs": [
        {
          "output_type": "stream",
          "name": "stdout",
          "text": [
            "Looking in indexes: https://pypi.org/simple, https://us-python.pkg.dev/colab-wheels/public/simple/\n",
            "Collecting contractions\n",
            "  Downloading contractions-0.1.72-py2.py3-none-any.whl (8.3 kB)\n",
            "Collecting textsearch>=0.0.21\n",
            "  Downloading textsearch-0.0.21-py2.py3-none-any.whl (7.5 kB)\n",
            "Collecting anyascii\n",
            "  Downloading anyascii-0.3.1-py3-none-any.whl (287 kB)\n",
            "\u001b[K     |████████████████████████████████| 287 kB 9.0 MB/s \n",
            "\u001b[?25hCollecting pyahocorasick\n",
            "  Downloading pyahocorasick-1.4.4-cp37-cp37m-manylinux_2_17_x86_64.manylinux2014_x86_64.whl (106 kB)\n",
            "\u001b[K     |████████████████████████████████| 106 kB 69.1 MB/s \n",
            "\u001b[?25hInstalling collected packages: pyahocorasick, anyascii, textsearch, contractions\n",
            "Successfully installed anyascii-0.3.1 contractions-0.1.72 pyahocorasick-1.4.4 textsearch-0.0.21\n"
          ]
        }
      ],
      "source": [
        "!pip install contractions\n",
        "import contractions"
      ]
    },
    {
      "cell_type": "code",
      "execution_count": null,
      "metadata": {
        "id": "-KwQu5psZXPb"
      },
      "outputs": [],
      "source": [
        "df_clean['total'] = df_clean['no_stopword_text'].apply(lambda x:[contractions.fix(word) for word in x.split(' ')])\n",
        "# testing_data['total'] = testing_data['no_stopword_text'].apply(lambda x:[contractions.fix(word) for word in x.split(' ')])"
      ]
    },
    {
      "cell_type": "code",
      "execution_count": null,
      "metadata": {
        "id": "xIhK3WRdw6PC"
      },
      "outputs": [],
      "source": [
        "# training_data['total'] =[' '.join(map(str, l)) for l in training_data['total']]\n",
        "# testing_data['total'] =[' '.join(map(str, l)) for l in testing_data['total']]"
      ]
    },
    {
      "cell_type": "markdown",
      "metadata": {
        "id": "dPUND7dSxk5P"
      },
      "source": [
        "# Exploratory Data Analysis"
      ]
    },
    {
      "cell_type": "code",
      "execution_count": null,
      "metadata": {
        "id": "eu3FSn1uxgAn"
      },
      "outputs": [],
      "source": [
        "def plot(text) :\n",
        "  stop = set(stopwords.words('indonesian'))\n",
        "  new = text.str.split()\n",
        "  new = new.values.tolist()\n",
        "  corpus = [word for i in new for word in i]\n",
        "  from collections import defaultdict\n",
        "  dic = defaultdict(int)\n",
        "  for word in corpus :\n",
        "    if word in stop :\n",
        "      dic[word] += 1\n",
        "  top = sorted(dic.items(), key = lambda x:x[1],reverse = True)[:10]\n",
        "  x,y = zip(*top)\n",
        "  plt.figure(figsize =(10,10))\n",
        "  plt.bar(x,y)"
      ]
    },
    {
      "cell_type": "markdown",
      "source": [
        "Berdasarkan dari grafik \"Frekuensi Kata\" dibawah, terlihat bahwa kata dengan frekuensi kemunculan terbanyak merupakan kata \"orang\" pada urutan pertama. Pada urutan kedua ditempati oleh kata \"dia\". Hal ini menunjukkan bahwa kata \"orang\" dan \"dia\" sering digunakan pada setiap genre novel. Pada urutan ketiga, kata \"fang\" banyak dijumpai pada dataset. Kata \"fang\" merupakan kata yang berasal dari genre \"fiksi ilmiah\" yang merupakan jumlah *class* genre terbanyak."
      ],
      "metadata": {
        "id": "Lhq_A5q0Gkjt"
      }
    },
    {
      "cell_type": "code",
      "execution_count": null,
      "metadata": {
        "colab": {
          "base_uri": "https://localhost:8080/",
          "height": 548
        },
        "id": "zNelpnqr03Nb",
        "outputId": "53e77873-e2f2-43f5-a630-2fe7f6004c36"
      },
      "outputs": [
        {
          "output_type": "display_data",
          "data": {
            "text/plain": [
              "<Figure size 1296x1008 with 1 Axes>"
            ],
            "image/png": "[encoded data removed]"
          },
          "metadata": {
            "needs_background": "light"
          }
        }
      ],
      "source": [
        "from nltk.probability import FreqDist\n",
        "freq_dist = FreqDist([word for text in df_clean[\"no_stopword_text\"] for word in text.lower().split()])\n",
        "\n",
        " # .str.replace('([^a-za-z0-9^,!.\\/+-=]|(vaksin))',' ')\n",
        "\n",
        "plt.figure(figsize=(18, 14))\n",
        "plt.title('Frekuensi kata').set_fontsize(25)\n",
        "plt.xlabel('').set_fontsize(25)\n",
        "plt.ylabel('').set_fontsize(25)\n",
        "freq_dist.plot(50,cumulative=False)\n",
        "plt.show()"
      ]
    },
    {
      "cell_type": "code",
      "execution_count": null,
      "metadata": {
        "colab": {
          "base_uri": "https://localhost:8080/"
        },
        "id": "Jvsn1XFP0GYs",
        "outputId": "2b405891-6ad5-492b-b189-7e7c3e752520"
      },
      "outputs": [
        {
          "output_type": "stream",
          "name": "stdout",
          "text": [
            "<class 'pandas.core.frame.DataFrame'>\n",
            "Int64Index: 169227 entries, 0 to 169226\n",
            "Data columns (total 3 columns):\n",
            " #   Column            Non-Null Count   Dtype \n",
            "---  ------            --------------   ----- \n",
            " 0   label             169227 non-null  int64 \n",
            " 1   no_stopword_text  169227 non-null  object\n",
            " 2   total             169227 non-null  object\n",
            "dtypes: int64(1), object(2)\n",
            "memory usage: 5.2+ MB\n"
          ]
        }
      ],
      "source": [
        "df_clean.info()"
      ]
    },
    {
      "cell_type": "code",
      "execution_count": null,
      "metadata": {
        "id": "hniUZx5LzOtJ"
      },
      "outputs": [],
      "source": [
        "tagged_1 = []\n",
        "tagged_2 = []\n",
        "\n",
        "for word in df_clean['total'] :\n",
        "  tagged_word = nltk.pos_tag(word)\n",
        "  tagged_1.append(tagged_word)\n",
        "tagged_2.append(tagged_1)"
      ]
    },
    {
      "cell_type": "code",
      "execution_count": null,
      "metadata": {
        "id": "4sMxtLAl3MTg"
      },
      "outputs": [],
      "source": [
        "# tagged_3 = []\n",
        "# tagged_4 = []\n",
        "\n",
        "# for word in testing_data['total'] :\n",
        "#   tagged_word2 = nltk.pos_tag(word)\n",
        "#   tagged_3.append(tagged_word2)\n",
        "# tagged_4.append(tagged_3)"
      ]
    },
    {
      "cell_type": "code",
      "execution_count": null,
      "metadata": {
        "id": "4np9La9C4URM",
        "colab": {
          "base_uri": "https://localhost:8080/"
        },
        "outputId": "cebbcee7-901f-44fd-89ad-e32ab48099fd"
      },
      "outputs": [
        {
          "output_type": "stream",
          "name": "stdout",
          "text": [
            "Looking in indexes: https://pypi.org/simple, https://us-python.pkg.dev/colab-wheels/public/simple/\n",
            "Requirement already satisfied: yellowbrick in /usr/local/lib/python3.7/dist-packages (1.4)\n",
            "Requirement already satisfied: numpy>=1.16.0 in /usr/local/lib/python3.7/dist-packages (from yellowbrick) (1.21.6)\n",
            "Requirement already satisfied: cycler>=0.10.0 in /usr/local/lib/python3.7/dist-packages (from yellowbrick) (0.11.0)\n",
            "Requirement already satisfied: scikit-learn>=1.0.0 in /usr/local/lib/python3.7/dist-packages (from yellowbrick) (1.0.2)\n",
            "Requirement already satisfied: scipy>=1.0.0 in /usr/local/lib/python3.7/dist-packages (from yellowbrick) (1.7.3)\n",
            "Requirement already satisfied: matplotlib!=3.0.0,>=2.0.2 in /usr/local/lib/python3.7/dist-packages (from yellowbrick) (3.2.2)\n",
            "Requirement already satisfied: python-dateutil>=2.1 in /usr/local/lib/python3.7/dist-packages (from matplotlib!=3.0.0,>=2.0.2->yellowbrick) (2.8.2)\n",
            "Requirement already satisfied: pyparsing!=2.0.4,!=2.1.2,!=2.1.6,>=2.0.1 in /usr/local/lib/python3.7/dist-packages (from matplotlib!=3.0.0,>=2.0.2->yellowbrick) (3.0.9)\n",
            "Requirement already satisfied: kiwisolver>=1.0.1 in /usr/local/lib/python3.7/dist-packages (from matplotlib!=3.0.0,>=2.0.2->yellowbrick) (1.4.4)\n",
            "Requirement already satisfied: typing-extensions in /usr/local/lib/python3.7/dist-packages (from kiwisolver>=1.0.1->matplotlib!=3.0.0,>=2.0.2->yellowbrick) (4.1.1)\n",
            "Requirement already satisfied: six>=1.5 in /usr/local/lib/python3.7/dist-packages (from python-dateutil>=2.1->matplotlib!=3.0.0,>=2.0.2->yellowbrick) (1.15.0)\n",
            "Requirement already satisfied: threadpoolctl>=2.0.0 in /usr/local/lib/python3.7/dist-packages (from scikit-learn>=1.0.0->yellowbrick) (3.1.0)\n",
            "Requirement already satisfied: joblib>=0.11 in /usr/local/lib/python3.7/dist-packages (from scikit-learn>=1.0.0->yellowbrick) (1.1.0)\n"
          ]
        }
      ],
      "source": [
        "!pip install -U yellowbrick"
      ]
    },
    {
      "cell_type": "markdown",
      "source": [
        "Penggunaan Post Tag Visualizer digunakan untuk menganalisa jumlah S - P - O - K dan unsur - unsur lain pada tiap kalimat yang akan digunakan pada training model. Kami mendapatkan informasi bahwa data training didominasi oleh Kata Benda"
      ],
      "metadata": {
        "id": "ePboFUJymHoK"
      }
    },
    {
      "cell_type": "code",
      "execution_count": null,
      "metadata": {
        "id": "B7xVuhZd4fpZ",
        "colab": {
          "base_uri": "https://localhost:8080/",
          "height": 680
        },
        "outputId": "a396785e-3efc-4111-949b-92f1b8586473"
      },
      "outputs": [
        {
          "output_type": "display_data",
          "data": {
            "text/plain": [
              "<Figure size 1080x1080 with 1 Axes>"
            ],
            "image/png": "[encoded data removed]"
          },
          "metadata": {}
        },
        {
          "output_type": "execute_result",
          "data": {
            "text/plain": [
              "<matplotlib.axes._subplots.AxesSubplot at 0x7f3f27239c90>"
            ]
          },
          "metadata": {},
          "execution_count": 26
        }
      ],
      "source": [
        "from yellowbrick.text import PosTagVisualizer\n",
        "plt.figure(figsize=(15,15))\n",
        "viz = PosTagVisualizer()\n",
        "viz.fit(tagged_2)\n",
        "viz.show()"
      ]
    },
    {
      "cell_type": "code",
      "execution_count": null,
      "metadata": {
        "id": "xOukzVFHkSd1",
        "colab": {
          "base_uri": "https://localhost:8080/"
        },
        "outputId": "5966687f-35f7-4ee5-ed95-55f7380624c6"
      },
      "outputs": [
        {
          "output_type": "execute_result",
          "data": {
            "text/plain": [
              "2    85532\n",
              "3    36870\n",
              "1    27356\n",
              "0    19469\n",
              "Name: label, dtype: int64"
            ]
          },
          "metadata": {},
          "execution_count": 27
        }
      ],
      "source": [
        "df_clean['label'].value_counts()"
      ]
    },
    {
      "cell_type": "code",
      "execution_count": null,
      "metadata": {
        "id": "o07YRaVb7QMG"
      },
      "outputs": [],
      "source": [
        "from pylab import rcParams"
      ]
    },
    {
      "cell_type": "markdown",
      "source": [
        "Visualisasi Genre berfungsi untuk melihat total dominansi genre dimana kami mendapatkan informasi bahwa genre Fiksi Ilmiah"
      ],
      "metadata": {
        "id": "-JtByxSRm2k_"
      }
    },
    {
      "cell_type": "code",
      "execution_count": null,
      "metadata": {
        "id": "zeukjm35UjvE",
        "colab": {
          "base_uri": "https://localhost:8080/",
          "height": 514
        },
        "outputId": "278b2717-5ad5-470f-9aeb-5410ff5762b8"
      },
      "outputs": [
        {
          "output_type": "execute_result",
          "data": {
            "text/plain": [
              "<matplotlib.axes._subplots.AxesSubplot at 0x7f3f27259110>"
            ]
          },
          "metadata": {},
          "execution_count": 29
        },
        {
          "output_type": "display_data",
          "data": {
            "text/plain": [
              "<Figure size 720x576 with 1 Axes>"
            ],
            "image/png": "[encoded data removed]"
          },
          "metadata": {}
        }
      ],
      "source": [
        "rcParams[\"figure.figsize\"] = 10,8\n",
        "sns.countplot(x = df['genre'])"
      ]
    },
    {
      "cell_type": "code",
      "execution_count": null,
      "metadata": {
        "id": "Zv2XGA2bFeFd",
        "colab": {
          "base_uri": "https://localhost:8080/",
          "height": 337
        },
        "outputId": "4347604f-4daf-4300-fcaf-41ed9a722f53"
      },
      "outputs": [
        {
          "output_type": "execute_result",
          "data": {
            "text/plain": [
              "   label                                   no_stopword_text  \\\n",
              "0      0  gerbang tumuju petengan ingkang Nyoto Terbukal...   \n",
              "1      1  Miana terhenyak mengerti maksud ucapan Drayn A...   \n",
              "2      2  Gabriel betapa kuatnya membuka matanya Mata in...   \n",
              "3      3  Semua semoga Kita tau Terima takdir Tuhan teta...   \n",
              "4      1  Mereka bertemu pengemudi kereta berjanggut ram...   \n",
              "\n",
              "                                               total  \n",
              "0  [gerbang, tumuju, petengan, ingkang, Nyoto, Te...  \n",
              "1  [Miana, terhenyak, mengerti, maksud, ucapan, D...  \n",
              "2  [Gabriel, betapa, kuatnya, membuka, matanya, M...  \n",
              "3  [Semua, semoga, Kita, tau, Terima, takdir, Tuh...  \n",
              "4  [Mereka, bertemu, pengemudi, kereta, berjanggu...  "
            ],
            "text/html": [
              "\n",
              "  <div id=\"df-02a1fd12-28ec-41d8-b70a-b00f969d6bb5\">\n",
              "    <div class=\"colab-df-container\">\n",
              "      <div>\n",
              "<style scoped>\n",
              "    .dataframe tbody tr th:only-of-type {\n",
              "        vertical-align: middle;\n",
              "    }\n",
              "\n",
              "    .dataframe tbody tr th {\n",
              "        vertical-align: top;\n",
              "    }\n",
              "\n",
              "    .dataframe thead th {\n",
              "        text-align: right;\n",
              "    }\n",
              "</style>\n",
              "<table border=\"1\" class=\"dataframe\">\n",
              "  <thead>\n",
              "    <tr style=\"text-align: right;\">\n",
              "      <th></th>\n",
              "      <th>label</th>\n",
              "      <th>no_stopword_text</th>\n",
              "      <th>total</th>\n",
              "    </tr>\n",
              "  </thead>\n",
              "  <tbody>\n",
              "    <tr>\n",
              "      <th>0</th>\n",
              "      <td>0</td>\n",
              "      <td>gerbang tumuju petengan ingkang Nyoto Terbukal...</td>\n",
              "      <td>[gerbang, tumuju, petengan, ingkang, Nyoto, Te...</td>\n",
              "    </tr>\n",
              "    <tr>\n",
              "      <th>1</th>\n",
              "      <td>1</td>\n",
              "      <td>Miana terhenyak mengerti maksud ucapan Drayn A...</td>\n",
              "      <td>[Miana, terhenyak, mengerti, maksud, ucapan, D...</td>\n",
              "    </tr>\n",
              "    <tr>\n",
              "      <th>2</th>\n",
              "      <td>2</td>\n",
              "      <td>Gabriel betapa kuatnya membuka matanya Mata in...</td>\n",
              "      <td>[Gabriel, betapa, kuatnya, membuka, matanya, M...</td>\n",
              "    </tr>\n",
              "    <tr>\n",
              "      <th>3</th>\n",
              "      <td>3</td>\n",
              "      <td>Semua semoga Kita tau Terima takdir Tuhan teta...</td>\n",
              "      <td>[Semua, semoga, Kita, tau, Terima, takdir, Tuh...</td>\n",
              "    </tr>\n",
              "    <tr>\n",
              "      <th>4</th>\n",
              "      <td>1</td>\n",
              "      <td>Mereka bertemu pengemudi kereta berjanggut ram...</td>\n",
              "      <td>[Mereka, bertemu, pengemudi, kereta, berjanggu...</td>\n",
              "    </tr>\n",
              "  </tbody>\n",
              "</table>\n",
              "</div>\n",
              "      <button class=\"colab-df-convert\" onclick=\"convertToInteractive('df-02a1fd12-28ec-41d8-b70a-b00f969d6bb5')\"\n",
              "              title=\"Convert this dataframe to an interactive table.\"\n",
              "              style=\"display:none;\">\n",
              "        \n",
              "  <svg xmlns=\"http://www.w3.org/2000/svg\" height=\"24px\"viewBox=\"0 0 24 24\"\n",
              "       width=\"24px\">\n",
              "    <path d=\"M0 0h24v24H0V0z\" fill=\"none\"/>\n",
              "    <path d=\"M18.56 5.44l.94 2.06.94-2.06 2.06-.94-2.06-.94-.94-2.06-.94 2.06-2.06.94zm-11 1L8.5 8.5l.94-2.06 2.06-.94-2.06-.94L8.5 2.5l-.94 2.06-2.06.94zm10 10l.94 2.06.94-2.06 2.06-.94-2.06-.94-.94-2.06-.94 2.06-2.06.94z\"/><path d=\"M17.41 7.96l-1.37-1.37c-.4-.4-.92-.59-1.43-.59-.52 0-1.04.2-1.43.59L10.3 9.45l-7.72 7.72c-.78.78-.78 2.05 0 2.83L4 21.41c.39.39.9.59 1.41.59.51 0 1.02-.2 1.41-.59l7.78-7.78 2.81-2.81c.8-.78.8-2.07 0-2.86zM5.41 20L4 18.59l7.72-7.72 1.47 1.35L5.41 20z\"/>\n",
              "  </svg>\n",
              "      </button>\n",
              "      \n",
              "  <style>\n",
              "    .colab-df-container {\n",
              "      display:flex;\n",
              "      flex-wrap:wrap;\n",
              "      gap: 12px;\n",
              "    }\n",
              "\n",
              "    .colab-df-convert {\n",
              "      background-color: #E8F0FE;\n",
              "      border: none;\n",
              "      border-radius: 50%;\n",
              "      cursor: pointer;\n",
              "      display: none;\n",
              "      fill: #1967D2;\n",
              "      height: 32px;\n",
              "      padding: 0 0 0 0;\n",
              "      width: 32px;\n",
              "    }\n",
              "\n",
              "    .colab-df-convert:hover {\n",
              "      background-color: #E2EBFA;\n",
              "      box-shadow: 0px 1px 2px rgba(60, 64, 67, 0.3), 0px 1px 3px 1px rgba(60, 64, 67, 0.15);\n",
              "      fill: #174EA6;\n",
              "    }\n",
              "\n",
              "    [theme=dark] .colab-df-convert {\n",
              "      background-color: #3B4455;\n",
              "      fill: #D2E3FC;\n",
              "    }\n",
              "\n",
              "    [theme=dark] .colab-df-convert:hover {\n",
              "      background-color: #434B5C;\n",
              "      box-shadow: 0px 1px 3px 1px rgba(0, 0, 0, 0.15);\n",
              "      filter: drop-shadow(0px 1px 2px rgba(0, 0, 0, 0.3));\n",
              "      fill: #FFFFFF;\n",
              "    }\n",
              "  </style>\n",
              "\n",
              "      <script>\n",
              "        const buttonEl =\n",
              "          document.querySelector('#df-02a1fd12-28ec-41d8-b70a-b00f969d6bb5 button.colab-df-convert');\n",
              "        buttonEl.style.display =\n",
              "          google.colab.kernel.accessAllowed ? 'block' : 'none';\n",
              "\n",
              "        async function convertToInteractive(key) {\n",
              "          const element = document.querySelector('#df-02a1fd12-28ec-41d8-b70a-b00f969d6bb5');\n",
              "          const dataTable =\n",
              "            await google.colab.kernel.invokeFunction('convertToInteractive',\n",
              "                                                     [key], {});\n",
              "          if (!dataTable) return;\n",
              "\n",
              "          const docLinkHtml = 'Like what you see? Visit the ' +\n",
              "            '<a target=\"_blank\" href=https://colab.research.google.com/notebooks/data_table.ipynb>data table notebook</a>'\n",
              "            + ' to learn more about interactive tables.';\n",
              "          element.innerHTML = '';\n",
              "          dataTable['output_type'] = 'display_data';\n",
              "          await google.colab.output.renderOutput(dataTable, element);\n",
              "          const docLink = document.createElement('div');\n",
              "          docLink.innerHTML = docLinkHtml;\n",
              "          element.appendChild(docLink);\n",
              "        }\n",
              "      </script>\n",
              "    </div>\n",
              "  </div>\n",
              "  "
            ]
          },
          "metadata": {},
          "execution_count": 30
        }
      ],
      "source": [
        "target = df_clean['label'].values\n",
        "# df_clean.drop(\"label\", axis = 1 , inplace = True)\n",
        "df_clean.head()"
      ]
    },
    {
      "cell_type": "markdown",
      "metadata": {
        "id": "LqQ8X319V25u"
      },
      "source": [
        "# Modelling"
      ]
    },
    {
      "cell_type": "code",
      "execution_count": null,
      "metadata": {
        "id": "cV9cHqAd22ny"
      },
      "outputs": [],
      "source": [
        "import random\n",
        "from sklearn.feature_extraction.text import CountVectorizer\n",
        "from sklearn.feature_extraction.text import TfidfTransformer\n",
        "import sklearn.metrics as metrics"
      ]
    },
    {
      "cell_type": "markdown",
      "source": [
        "Pada tahap pertama kami membuat fungsi yang digunakan untuk mengukur akurasi dari model yang kami buat menggunakan Evaluate Classifier"
      ],
      "metadata": {
        "id": "C3jLY0-CoKOk"
      }
    },
    {
      "cell_type": "code",
      "execution_count": null,
      "metadata": {
        "id": "vTohCqgovb19"
      },
      "outputs": [],
      "source": [
        "def evaluate_classifier(title, classifier, vectorizer, X_test, y_test):\n",
        "  X_test_tfidf = vectorizer.transform(X_test)\n",
        "  y_pred = classifier.predict(X_test_tfidf)\n",
        "\n",
        "  precision = metrics.precision_score(y_test, y_pred, average='micro')\n",
        "  recall = metrics.recall_score(y_test, y_pred, average='micro')\n",
        "  f1 = metrics.f1_score(y_test, y_pred, average='micro')\n",
        "\n",
        "  print(\"%s\\t%f\\t%f\\t%f\\n\" % (title, precision, recall, f1))"
      ]
    },
    {
      "cell_type": "code",
      "execution_count": null,
      "metadata": {
        "id": "phFRuuvz29Js",
        "colab": {
          "base_uri": "https://localhost:8080/",
          "height": 641
        },
        "outputId": "50b2cc27-d388-4706-849b-9e06393fc4b3"
      },
      "outputs": [
        {
          "output_type": "execute_result",
          "data": {
            "text/plain": [
              "        label                                   no_stopword_text  \\\n",
              "0           0  gerbang tumuju petengan ingkang Nyoto Terbukal...   \n",
              "1           1  Miana terhenyak mengerti maksud ucapan Drayn A...   \n",
              "2           2  Gabriel betapa kuatnya membuka matanya Mata in...   \n",
              "3           3  Semua semoga Kita tau Terima takdir Tuhan teta...   \n",
              "4           1  Mereka bertemu pengemudi kereta berjanggut ram...   \n",
              "...       ...                                                ...   \n",
              "169222      1  Terlambat Arelia keburu pergi hadapan Daza Gad...   \n",
              "169223      0  Hujan hujan alami Cakra Ini hujan ghaib Perlah...   \n",
              "169224      3     HAHAHA Maap bgt up Jan lupa vote oke Aku maksa   \n",
              "169225      2  Memikirkannya memperhatikan pergerakannya Inte...   \n",
              "169226      1  Kalau Putri lakukan Sihir Ayah Tanya Putri Cle...   \n",
              "\n",
              "                                                    total  \n",
              "0       [gerbang, tumuju, petengan, ingkang, Nyoto, Te...  \n",
              "1       [Miana, terhenyak, mengerti, maksud, ucapan, D...  \n",
              "2       [Gabriel, betapa, kuatnya, membuka, matanya, M...  \n",
              "3       [Semua, semoga, Kita, tau, Terima, takdir, Tuh...  \n",
              "4       [Mereka, bertemu, pengemudi, kereta, berjanggu...  \n",
              "...                                                   ...  \n",
              "169222  [Terlambat, Arelia, keburu, pergi, hadapan, Da...  \n",
              "169223  [Hujan, hujan, alami, Cakra, Ini, hujan, ghaib...  \n",
              "169224  [HAHAHA, Maap, bgt, up, Jan, lupa, vote, oke, ...  \n",
              "169225  [Memikirkannya, memperhatikan, pergerakannya, ...  \n",
              "169226  [Kalau, Putri, lakukan, Sihir, Ayah, Tanya, Pu...  \n",
              "\n",
              "[169227 rows x 3 columns]"
            ],
            "text/html": [
              "\n",
              "  <div id=\"df-d7f8a727-b75a-4548-83fa-9f9461dcbbf8\">\n",
              "    <div class=\"colab-df-container\">\n",
              "      <div>\n",
              "<style scoped>\n",
              "    .dataframe tbody tr th:only-of-type {\n",
              "        vertical-align: middle;\n",
              "    }\n",
              "\n",
              "    .dataframe tbody tr th {\n",
              "        vertical-align: top;\n",
              "    }\n",
              "\n",
              "    .dataframe thead th {\n",
              "        text-align: right;\n",
              "    }\n",
              "</style>\n",
              "<table border=\"1\" class=\"dataframe\">\n",
              "  <thead>\n",
              "    <tr style=\"text-align: right;\">\n",
              "      <th></th>\n",
              "      <th>label</th>\n",
              "      <th>no_stopword_text</th>\n",
              "      <th>total</th>\n",
              "    </tr>\n",
              "  </thead>\n",
              "  <tbody>\n",
              "    <tr>\n",
              "      <th>0</th>\n",
              "      <td>0</td>\n",
              "      <td>gerbang tumuju petengan ingkang Nyoto Terbukal...</td>\n",
              "      <td>[gerbang, tumuju, petengan, ingkang, Nyoto, Te...</td>\n",
              "    </tr>\n",
              "    <tr>\n",
              "      <th>1</th>\n",
              "      <td>1</td>\n",
              "      <td>Miana terhenyak mengerti maksud ucapan Drayn A...</td>\n",
              "      <td>[Miana, terhenyak, mengerti, maksud, ucapan, D...</td>\n",
              "    </tr>\n",
              "    <tr>\n",
              "      <th>2</th>\n",
              "      <td>2</td>\n",
              "      <td>Gabriel betapa kuatnya membuka matanya Mata in...</td>\n",
              "      <td>[Gabriel, betapa, kuatnya, membuka, matanya, M...</td>\n",
              "    </tr>\n",
              "    <tr>\n",
              "      <th>3</th>\n",
              "      <td>3</td>\n",
              "      <td>Semua semoga Kita tau Terima takdir Tuhan teta...</td>\n",
              "      <td>[Semua, semoga, Kita, tau, Terima, takdir, Tuh...</td>\n",
              "    </tr>\n",
              "    <tr>\n",
              "      <th>4</th>\n",
              "      <td>1</td>\n",
              "      <td>Mereka bertemu pengemudi kereta berjanggut ram...</td>\n",
              "      <td>[Mereka, bertemu, pengemudi, kereta, berjanggu...</td>\n",
              "    </tr>\n",
              "    <tr>\n",
              "      <th>...</th>\n",
              "      <td>...</td>\n",
              "      <td>...</td>\n",
              "      <td>...</td>\n",
              "    </tr>\n",
              "    <tr>\n",
              "      <th>169222</th>\n",
              "      <td>1</td>\n",
              "      <td>Terlambat Arelia keburu pergi hadapan Daza Gad...</td>\n",
              "      <td>[Terlambat, Arelia, keburu, pergi, hadapan, Da...</td>\n",
              "    </tr>\n",
              "    <tr>\n",
              "      <th>169223</th>\n",
              "      <td>0</td>\n",
              "      <td>Hujan hujan alami Cakra Ini hujan ghaib Perlah...</td>\n",
              "      <td>[Hujan, hujan, alami, Cakra, Ini, hujan, ghaib...</td>\n",
              "    </tr>\n",
              "    <tr>\n",
              "      <th>169224</th>\n",
              "      <td>3</td>\n",
              "      <td>HAHAHA Maap bgt up Jan lupa vote oke Aku maksa</td>\n",
              "      <td>[HAHAHA, Maap, bgt, up, Jan, lupa, vote, oke, ...</td>\n",
              "    </tr>\n",
              "    <tr>\n",
              "      <th>169225</th>\n",
              "      <td>2</td>\n",
              "      <td>Memikirkannya memperhatikan pergerakannya Inte...</td>\n",
              "      <td>[Memikirkannya, memperhatikan, pergerakannya, ...</td>\n",
              "    </tr>\n",
              "    <tr>\n",
              "      <th>169226</th>\n",
              "      <td>1</td>\n",
              "      <td>Kalau Putri lakukan Sihir Ayah Tanya Putri Cle...</td>\n",
              "      <td>[Kalau, Putri, lakukan, Sihir, Ayah, Tanya, Pu...</td>\n",
              "    </tr>\n",
              "  </tbody>\n",
              "</table>\n",
              "<p>169227 rows × 3 columns</p>\n",
              "</div>\n",
              "      <button class=\"colab-df-convert\" onclick=\"convertToInteractive('df-d7f8a727-b75a-4548-83fa-9f9461dcbbf8')\"\n",
              "              title=\"Convert this dataframe to an interactive table.\"\n",
              "              style=\"display:none;\">\n",
              "        \n",
              "  <svg xmlns=\"http://www.w3.org/2000/svg\" height=\"24px\"viewBox=\"0 0 24 24\"\n",
              "       width=\"24px\">\n",
              "    <path d=\"M0 0h24v24H0V0z\" fill=\"none\"/>\n",
              "    <path d=\"M18.56 5.44l.94 2.06.94-2.06 2.06-.94-2.06-.94-.94-2.06-.94 2.06-2.06.94zm-11 1L8.5 8.5l.94-2.06 2.06-.94-2.06-.94L8.5 2.5l-.94 2.06-2.06.94zm10 10l.94 2.06.94-2.06 2.06-.94-2.06-.94-.94-2.06-.94 2.06-2.06.94z\"/><path d=\"M17.41 7.96l-1.37-1.37c-.4-.4-.92-.59-1.43-.59-.52 0-1.04.2-1.43.59L10.3 9.45l-7.72 7.72c-.78.78-.78 2.05 0 2.83L4 21.41c.39.39.9.59 1.41.59.51 0 1.02-.2 1.41-.59l7.78-7.78 2.81-2.81c.8-.78.8-2.07 0-2.86zM5.41 20L4 18.59l7.72-7.72 1.47 1.35L5.41 20z\"/>\n",
              "  </svg>\n",
              "      </button>\n",
              "      \n",
              "  <style>\n",
              "    .colab-df-container {\n",
              "      display:flex;\n",
              "      flex-wrap:wrap;\n",
              "      gap: 12px;\n",
              "    }\n",
              "\n",
              "    .colab-df-convert {\n",
              "      background-color: #E8F0FE;\n",
              "      border: none;\n",
              "      border-radius: 50%;\n",
              "      cursor: pointer;\n",
              "      display: none;\n",
              "      fill: #1967D2;\n",
              "      height: 32px;\n",
              "      padding: 0 0 0 0;\n",
              "      width: 32px;\n",
              "    }\n",
              "\n",
              "    .colab-df-convert:hover {\n",
              "      background-color: #E2EBFA;\n",
              "      box-shadow: 0px 1px 2px rgba(60, 64, 67, 0.3), 0px 1px 3px 1px rgba(60, 64, 67, 0.15);\n",
              "      fill: #174EA6;\n",
              "    }\n",
              "\n",
              "    [theme=dark] .colab-df-convert {\n",
              "      background-color: #3B4455;\n",
              "      fill: #D2E3FC;\n",
              "    }\n",
              "\n",
              "    [theme=dark] .colab-df-convert:hover {\n",
              "      background-color: #434B5C;\n",
              "      box-shadow: 0px 1px 3px 1px rgba(0, 0, 0, 0.15);\n",
              "      filter: drop-shadow(0px 1px 2px rgba(0, 0, 0, 0.3));\n",
              "      fill: #FFFFFF;\n",
              "    }\n",
              "  </style>\n",
              "\n",
              "      <script>\n",
              "        const buttonEl =\n",
              "          document.querySelector('#df-d7f8a727-b75a-4548-83fa-9f9461dcbbf8 button.colab-df-convert');\n",
              "        buttonEl.style.display =\n",
              "          google.colab.kernel.accessAllowed ? 'block' : 'none';\n",
              "\n",
              "        async function convertToInteractive(key) {\n",
              "          const element = document.querySelector('#df-d7f8a727-b75a-4548-83fa-9f9461dcbbf8');\n",
              "          const dataTable =\n",
              "            await google.colab.kernel.invokeFunction('convertToInteractive',\n",
              "                                                     [key], {});\n",
              "          if (!dataTable) return;\n",
              "\n",
              "          const docLinkHtml = 'Like what you see? Visit the ' +\n",
              "            '<a target=\"_blank\" href=https://colab.research.google.com/notebooks/data_table.ipynb>data table notebook</a>'\n",
              "            + ' to learn more about interactive tables.';\n",
              "          element.innerHTML = '';\n",
              "          dataTable['output_type'] = 'display_data';\n",
              "          await google.colab.output.renderOutput(dataTable, element);\n",
              "          const docLink = document.createElement('div');\n",
              "          docLink.innerHTML = docLinkHtml;\n",
              "          element.appendChild(docLink);\n",
              "        }\n",
              "      </script>\n",
              "    </div>\n",
              "  </div>\n",
              "  "
            ]
          },
          "metadata": {},
          "execution_count": 33
        }
      ],
      "source": [
        "df_clean"
      ]
    },
    {
      "cell_type": "markdown",
      "source": [
        "Pada fungsi Train Classifier kami menggunakan metode Multinomial Naive Bayes untuk mengklasifikasi, dimana alasan menggunakan metode ini adalah : \n",
        "\n",
        "1.   High Scalabilitas dalam training data\n",
        "2.   Sangat efektif dalam training data diskret\n",
        "Sehingga kami menggunakan Multinomial Naive Bayes Method untuk mengklasifikasikan kategori genre tersebut.\n",
        "\n",
        "Kemudian dikarenakan Naive Bayes tidak memiliki Hyperparameter Tuning, kami menggunakan pendekatan yang mirip untuk meningkatkan akurasi yaitu dengan Vectorizer. Vectorizer akan melakukan regularisasi pada ekspresi model yang mirip dengan lasso pada linear regresi. Pada kasus ini kami menggunakan Vectorizer dengan memanfaatkan n-gram dari unigram, bigram, dan trigram untuk menganalisa sentence dengan lebih baik\n",
        "\n"
      ],
      "metadata": {
        "id": "YJ_2bfO9dy47"
      }
    },
    {
      "cell_type": "code",
      "execution_count": null,
      "metadata": {
        "id": "AJpPjUTqlorp"
      },
      "outputs": [],
      "source": [
        "def train_classifier(df_clean):\n",
        "  target = df_clean['label'].values\n",
        "\n",
        "  vectorizer = CountVectorizer(ngram_range=(1, 3),min_df=3,analyzer='word')\n",
        "  \n",
        "\n",
        "  train_tfidf = df_clean['no_stopword_text'].values\n",
        "\n",
        "  X_train,X_test,y_train,y_test = train_test_split(train_tfidf,target,random_state =0)\n",
        "\n",
        "  # create doc-term matrix\n",
        "  dtm = vectorizer.fit_transform(X_train)\n",
        "\n",
        "  # train Naive Bayes classifier\n",
        "  naive_bayes_classifier = MultinomialNB().fit(dtm, y_train)\n",
        "\n",
        "  evaluate_classifier(\"Naive Bayes\\tTRAIN\\t\", naive_bayes_classifier, vectorizer, X_train, y_train)\n",
        "  evaluate_classifier(\"naive Bayes\\tTEST\\t\", naive_bayes_classifier, vectorizer, X_test, y_test)\n",
        "\n",
        "  # store the classifier\n",
        "  clf_filename = 'naive_bayes_classifier.pkl'\n",
        "  pickle.dump(naive_bayes_classifier, open (clf_filename, 'wb'))\n",
        "\n",
        "  # also store the vectorizer so we can transform new data\n",
        "  vec_filename = 'count_vectorizer.pkl'\n",
        "  pickle.dump(vectorizer, open(vec_filename, 'wb'))"
      ]
    },
    {
      "cell_type": "code",
      "execution_count": null,
      "metadata": {
        "id": "u4-1lb3Z2lAu",
        "colab": {
          "base_uri": "https://localhost:8080/"
        },
        "outputId": "7399dc6d-805a-443e-bf80-be5fd7800280"
      },
      "outputs": [
        {
          "output_type": "stream",
          "name": "stdout",
          "text": [
            "Naive Bayes\tTRAIN\t\t0.974110\t0.974110\t0.974110\n",
            "\n",
            "naive Bayes\tTEST\t\t0.946723\t0.946723\t0.946723\n",
            "\n"
          ]
        }
      ],
      "source": [
        "train_classifier(df_clean)"
      ]
    },
    {
      "cell_type": "markdown",
      "metadata": {
        "id": "PFYz7fGlWGau"
      },
      "source": [
        "# Testing"
      ]
    },
    {
      "cell_type": "code",
      "execution_count": null,
      "metadata": {
        "id": "M8dOaEfSN3pt",
        "colab": {
          "base_uri": "https://localhost:8080/",
          "height": 424
        },
        "outputId": "0e5324e4-f401-4e3f-fd86-ffc7aa0c764f"
      },
      "outputs": [
        {
          "output_type": "execute_result",
          "data": {
            "text/plain": [
              "                                                   text\n",
              "0     \\n \"Kok udah bangun?\" tanya Aron\\n\\n\\n \"Laper ...\n",
              "1     \\n .....\\n\\n\\n Usman ke samping rumah sebelah ...\n",
              "2     \\n \"Ko cuman sebentar?\" Tanya Fiolla, dengan w...\n",
              "3     \\n Setelah Frye selesai, mereka menunggu saat ...\n",
              "4     \\n \"Percayalah Yati! Kau bersedia, kan?\" Yati ...\n",
              "...                                                 ...\n",
              "3995  \\n \"Waalaikumsalam, hati hati Ron bawa mobilny...\n",
              "3996   Menghentikan satu meter di depan balok es tra...\n",
              "3997  \\n Terdengar suara kuda meringkik. Kuda yang k...\n",
              "3998  \\n Meski hanya terjadi sesaat.\\n\\n\\n Tapi itu ...\n",
              "3999  \\n \"Terkadang perlu pengorbanan, untuk menyamp...\n",
              "\n",
              "[4000 rows x 1 columns]"
            ],
            "text/html": [
              "\n",
              "  <div id=\"df-c72edbb1-89b0-41db-a3f2-7b54fe24cb46\">\n",
              "    <div class=\"colab-df-container\">\n",
              "      <div>\n",
              "<style scoped>\n",
              "    .dataframe tbody tr th:only-of-type {\n",
              "        vertical-align: middle;\n",
              "    }\n",
              "\n",
              "    .dataframe tbody tr th {\n",
              "        vertical-align: top;\n",
              "    }\n",
              "\n",
              "    .dataframe thead th {\n",
              "        text-align: right;\n",
              "    }\n",
              "</style>\n",
              "<table border=\"1\" class=\"dataframe\">\n",
              "  <thead>\n",
              "    <tr style=\"text-align: right;\">\n",
              "      <th></th>\n",
              "      <th>text</th>\n",
              "    </tr>\n",
              "  </thead>\n",
              "  <tbody>\n",
              "    <tr>\n",
              "      <th>0</th>\n",
              "      <td>\\n \"Kok udah bangun?\" tanya Aron\\n\\n\\n \"Laper ...</td>\n",
              "    </tr>\n",
              "    <tr>\n",
              "      <th>1</th>\n",
              "      <td>\\n .....\\n\\n\\n Usman ke samping rumah sebelah ...</td>\n",
              "    </tr>\n",
              "    <tr>\n",
              "      <th>2</th>\n",
              "      <td>\\n \"Ko cuman sebentar?\" Tanya Fiolla, dengan w...</td>\n",
              "    </tr>\n",
              "    <tr>\n",
              "      <th>3</th>\n",
              "      <td>\\n Setelah Frye selesai, mereka menunggu saat ...</td>\n",
              "    </tr>\n",
              "    <tr>\n",
              "      <th>4</th>\n",
              "      <td>\\n \"Percayalah Yati! Kau bersedia, kan?\" Yati ...</td>\n",
              "    </tr>\n",
              "    <tr>\n",
              "      <th>...</th>\n",
              "      <td>...</td>\n",
              "    </tr>\n",
              "    <tr>\n",
              "      <th>3995</th>\n",
              "      <td>\\n \"Waalaikumsalam, hati hati Ron bawa mobilny...</td>\n",
              "    </tr>\n",
              "    <tr>\n",
              "      <th>3996</th>\n",
              "      <td>Menghentikan satu meter di depan balok es tra...</td>\n",
              "    </tr>\n",
              "    <tr>\n",
              "      <th>3997</th>\n",
              "      <td>\\n Terdengar suara kuda meringkik. Kuda yang k...</td>\n",
              "    </tr>\n",
              "    <tr>\n",
              "      <th>3998</th>\n",
              "      <td>\\n Meski hanya terjadi sesaat.\\n\\n\\n Tapi itu ...</td>\n",
              "    </tr>\n",
              "    <tr>\n",
              "      <th>3999</th>\n",
              "      <td>\\n \"Terkadang perlu pengorbanan, untuk menyamp...</td>\n",
              "    </tr>\n",
              "  </tbody>\n",
              "</table>\n",
              "<p>4000 rows × 1 columns</p>\n",
              "</div>\n",
              "      <button class=\"colab-df-convert\" onclick=\"convertToInteractive('df-c72edbb1-89b0-41db-a3f2-7b54fe24cb46')\"\n",
              "              title=\"Convert this dataframe to an interactive table.\"\n",
              "              style=\"display:none;\">\n",
              "        \n",
              "  <svg xmlns=\"http://www.w3.org/2000/svg\" height=\"24px\"viewBox=\"0 0 24 24\"\n",
              "       width=\"24px\">\n",
              "    <path d=\"M0 0h24v24H0V0z\" fill=\"none\"/>\n",
              "    <path d=\"M18.56 5.44l.94 2.06.94-2.06 2.06-.94-2.06-.94-.94-2.06-.94 2.06-2.06.94zm-11 1L8.5 8.5l.94-2.06 2.06-.94-2.06-.94L8.5 2.5l-.94 2.06-2.06.94zm10 10l.94 2.06.94-2.06 2.06-.94-2.06-.94-.94-2.06-.94 2.06-2.06.94z\"/><path d=\"M17.41 7.96l-1.37-1.37c-.4-.4-.92-.59-1.43-.59-.52 0-1.04.2-1.43.59L10.3 9.45l-7.72 7.72c-.78.78-.78 2.05 0 2.83L4 21.41c.39.39.9.59 1.41.59.51 0 1.02-.2 1.41-.59l7.78-7.78 2.81-2.81c.8-.78.8-2.07 0-2.86zM5.41 20L4 18.59l7.72-7.72 1.47 1.35L5.41 20z\"/>\n",
              "  </svg>\n",
              "      </button>\n",
              "      \n",
              "  <style>\n",
              "    .colab-df-container {\n",
              "      display:flex;\n",
              "      flex-wrap:wrap;\n",
              "      gap: 12px;\n",
              "    }\n",
              "\n",
              "    .colab-df-convert {\n",
              "      background-color: #E8F0FE;\n",
              "      border: none;\n",
              "      border-radius: 50%;\n",
              "      cursor: pointer;\n",
              "      display: none;\n",
              "      fill: #1967D2;\n",
              "      height: 32px;\n",
              "      padding: 0 0 0 0;\n",
              "      width: 32px;\n",
              "    }\n",
              "\n",
              "    .colab-df-convert:hover {\n",
              "      background-color: #E2EBFA;\n",
              "      box-shadow: 0px 1px 2px rgba(60, 64, 67, 0.3), 0px 1px 3px 1px rgba(60, 64, 67, 0.15);\n",
              "      fill: #174EA6;\n",
              "    }\n",
              "\n",
              "    [theme=dark] .colab-df-convert {\n",
              "      background-color: #3B4455;\n",
              "      fill: #D2E3FC;\n",
              "    }\n",
              "\n",
              "    [theme=dark] .colab-df-convert:hover {\n",
              "      background-color: #434B5C;\n",
              "      box-shadow: 0px 1px 3px 1px rgba(0, 0, 0, 0.15);\n",
              "      filter: drop-shadow(0px 1px 2px rgba(0, 0, 0, 0.3));\n",
              "      fill: #FFFFFF;\n",
              "    }\n",
              "  </style>\n",
              "\n",
              "      <script>\n",
              "        const buttonEl =\n",
              "          document.querySelector('#df-c72edbb1-89b0-41db-a3f2-7b54fe24cb46 button.colab-df-convert');\n",
              "        buttonEl.style.display =\n",
              "          google.colab.kernel.accessAllowed ? 'block' : 'none';\n",
              "\n",
              "        async function convertToInteractive(key) {\n",
              "          const element = document.querySelector('#df-c72edbb1-89b0-41db-a3f2-7b54fe24cb46');\n",
              "          const dataTable =\n",
              "            await google.colab.kernel.invokeFunction('convertToInteractive',\n",
              "                                                     [key], {});\n",
              "          if (!dataTable) return;\n",
              "\n",
              "          const docLinkHtml = 'Like what you see? Visit the ' +\n",
              "            '<a target=\"_blank\" href=https://colab.research.google.com/notebooks/data_table.ipynb>data table notebook</a>'\n",
              "            + ' to learn more about interactive tables.';\n",
              "          element.innerHTML = '';\n",
              "          dataTable['output_type'] = 'display_data';\n",
              "          await google.colab.output.renderOutput(dataTable, element);\n",
              "          const docLink = document.createElement('div');\n",
              "          docLink.innerHTML = docLinkHtml;\n",
              "          element.appendChild(docLink);\n",
              "        }\n",
              "      </script>\n",
              "    </div>\n",
              "  </div>\n",
              "  "
            ]
          },
          "metadata": {},
          "execution_count": 62
        }
      ],
      "source": [
        "df_try = pd.read_csv('Prediction Case.csv')\n",
        "df_try\n",
        "df_num = df_try['id']\n",
        "df_try = df_try.drop(['id'],axis = 1)\n",
        "df_try"
      ]
    },
    {
      "cell_type": "code",
      "execution_count": null,
      "metadata": {
        "id": "gBMxmgyvSKbV",
        "colab": {
          "base_uri": "https://localhost:8080/",
          "height": 424
        },
        "outputId": "0cf57992-38b1-4571-a989-b6acf386b661"
      },
      "outputs": [
        {
          "output_type": "execute_result",
          "data": {
            "text/plain": [
              "                                                   text\n",
              "0     \\n \"Kok udah bangun?\" tanya Aron\\n\\n\\n \"Laper ...\n",
              "1     \\n .....\\n\\n\\n Usman ke samping rumah sebelah ...\n",
              "2     \\n \"Ko cuman sebentar?\" Tanya Fiolla, dengan w...\n",
              "3     \\n Setelah Frye selesai, mereka menunggu saat ...\n",
              "4     \\n \"Percayalah Yati! Kau bersedia, kan?\" Yati ...\n",
              "...                                                 ...\n",
              "3995  \\n \"Waalaikumsalam, hati hati Ron bawa mobilny...\n",
              "3996   Menghentikan satu meter di depan balok es tra...\n",
              "3997  \\n Terdengar suara kuda meringkik. Kuda yang k...\n",
              "3998  \\n Meski hanya terjadi sesaat.\\n\\n\\n Tapi itu ...\n",
              "3999  \\n \"Terkadang perlu pengorbanan, untuk menyamp...\n",
              "\n",
              "[4000 rows x 1 columns]"
            ],
            "text/html": [
              "\n",
              "  <div id=\"df-23d9239e-968b-43e0-8e22-86ce050ee3fc\">\n",
              "    <div class=\"colab-df-container\">\n",
              "      <div>\n",
              "<style scoped>\n",
              "    .dataframe tbody tr th:only-of-type {\n",
              "        vertical-align: middle;\n",
              "    }\n",
              "\n",
              "    .dataframe tbody tr th {\n",
              "        vertical-align: top;\n",
              "    }\n",
              "\n",
              "    .dataframe thead th {\n",
              "        text-align: right;\n",
              "    }\n",
              "</style>\n",
              "<table border=\"1\" class=\"dataframe\">\n",
              "  <thead>\n",
              "    <tr style=\"text-align: right;\">\n",
              "      <th></th>\n",
              "      <th>text</th>\n",
              "    </tr>\n",
              "  </thead>\n",
              "  <tbody>\n",
              "    <tr>\n",
              "      <th>0</th>\n",
              "      <td>\\n \"Kok udah bangun?\" tanya Aron\\n\\n\\n \"Laper ...</td>\n",
              "    </tr>\n",
              "    <tr>\n",
              "      <th>1</th>\n",
              "      <td>\\n .....\\n\\n\\n Usman ke samping rumah sebelah ...</td>\n",
              "    </tr>\n",
              "    <tr>\n",
              "      <th>2</th>\n",
              "      <td>\\n \"Ko cuman sebentar?\" Tanya Fiolla, dengan w...</td>\n",
              "    </tr>\n",
              "    <tr>\n",
              "      <th>3</th>\n",
              "      <td>\\n Setelah Frye selesai, mereka menunggu saat ...</td>\n",
              "    </tr>\n",
              "    <tr>\n",
              "      <th>4</th>\n",
              "      <td>\\n \"Percayalah Yati! Kau bersedia, kan?\" Yati ...</td>\n",
              "    </tr>\n",
              "    <tr>\n",
              "      <th>...</th>\n",
              "      <td>...</td>\n",
              "    </tr>\n",
              "    <tr>\n",
              "      <th>3995</th>\n",
              "      <td>\\n \"Waalaikumsalam, hati hati Ron bawa mobilny...</td>\n",
              "    </tr>\n",
              "    <tr>\n",
              "      <th>3996</th>\n",
              "      <td>Menghentikan satu meter di depan balok es tra...</td>\n",
              "    </tr>\n",
              "    <tr>\n",
              "      <th>3997</th>\n",
              "      <td>\\n Terdengar suara kuda meringkik. Kuda yang k...</td>\n",
              "    </tr>\n",
              "    <tr>\n",
              "      <th>3998</th>\n",
              "      <td>\\n Meski hanya terjadi sesaat.\\n\\n\\n Tapi itu ...</td>\n",
              "    </tr>\n",
              "    <tr>\n",
              "      <th>3999</th>\n",
              "      <td>\\n \"Terkadang perlu pengorbanan, untuk menyamp...</td>\n",
              "    </tr>\n",
              "  </tbody>\n",
              "</table>\n",
              "<p>4000 rows × 1 columns</p>\n",
              "</div>\n",
              "      <button class=\"colab-df-convert\" onclick=\"convertToInteractive('df-23d9239e-968b-43e0-8e22-86ce050ee3fc')\"\n",
              "              title=\"Convert this dataframe to an interactive table.\"\n",
              "              style=\"display:none;\">\n",
              "        \n",
              "  <svg xmlns=\"http://www.w3.org/2000/svg\" height=\"24px\"viewBox=\"0 0 24 24\"\n",
              "       width=\"24px\">\n",
              "    <path d=\"M0 0h24v24H0V0z\" fill=\"none\"/>\n",
              "    <path d=\"M18.56 5.44l.94 2.06.94-2.06 2.06-.94-2.06-.94-.94-2.06-.94 2.06-2.06.94zm-11 1L8.5 8.5l.94-2.06 2.06-.94-2.06-.94L8.5 2.5l-.94 2.06-2.06.94zm10 10l.94 2.06.94-2.06 2.06-.94-2.06-.94-.94-2.06-.94 2.06-2.06.94z\"/><path d=\"M17.41 7.96l-1.37-1.37c-.4-.4-.92-.59-1.43-.59-.52 0-1.04.2-1.43.59L10.3 9.45l-7.72 7.72c-.78.78-.78 2.05 0 2.83L4 21.41c.39.39.9.59 1.41.59.51 0 1.02-.2 1.41-.59l7.78-7.78 2.81-2.81c.8-.78.8-2.07 0-2.86zM5.41 20L4 18.59l7.72-7.72 1.47 1.35L5.41 20z\"/>\n",
              "  </svg>\n",
              "      </button>\n",
              "      \n",
              "  <style>\n",
              "    .colab-df-container {\n",
              "      display:flex;\n",
              "      flex-wrap:wrap;\n",
              "      gap: 12px;\n",
              "    }\n",
              "\n",
              "    .colab-df-convert {\n",
              "      background-color: #E8F0FE;\n",
              "      border: none;\n",
              "      border-radius: 50%;\n",
              "      cursor: pointer;\n",
              "      display: none;\n",
              "      fill: #1967D2;\n",
              "      height: 32px;\n",
              "      padding: 0 0 0 0;\n",
              "      width: 32px;\n",
              "    }\n",
              "\n",
              "    .colab-df-convert:hover {\n",
              "      background-color: #E2EBFA;\n",
              "      box-shadow: 0px 1px 2px rgba(60, 64, 67, 0.3), 0px 1px 3px 1px rgba(60, 64, 67, 0.15);\n",
              "      fill: #174EA6;\n",
              "    }\n",
              "\n",
              "    [theme=dark] .colab-df-convert {\n",
              "      background-color: #3B4455;\n",
              "      fill: #D2E3FC;\n",
              "    }\n",
              "\n",
              "    [theme=dark] .colab-df-convert:hover {\n",
              "      background-color: #434B5C;\n",
              "      box-shadow: 0px 1px 3px 1px rgba(0, 0, 0, 0.15);\n",
              "      filter: drop-shadow(0px 1px 2px rgba(0, 0, 0, 0.3));\n",
              "      fill: #FFFFFF;\n",
              "    }\n",
              "  </style>\n",
              "\n",
              "      <script>\n",
              "        const buttonEl =\n",
              "          document.querySelector('#df-23d9239e-968b-43e0-8e22-86ce050ee3fc button.colab-df-convert');\n",
              "        buttonEl.style.display =\n",
              "          google.colab.kernel.accessAllowed ? 'block' : 'none';\n",
              "\n",
              "        async function convertToInteractive(key) {\n",
              "          const element = document.querySelector('#df-23d9239e-968b-43e0-8e22-86ce050ee3fc');\n",
              "          const dataTable =\n",
              "            await google.colab.kernel.invokeFunction('convertToInteractive',\n",
              "                                                     [key], {});\n",
              "          if (!dataTable) return;\n",
              "\n",
              "          const docLinkHtml = 'Like what you see? Visit the ' +\n",
              "            '<a target=\"_blank\" href=https://colab.research.google.com/notebooks/data_table.ipynb>data table notebook</a>'\n",
              "            + ' to learn more about interactive tables.';\n",
              "          element.innerHTML = '';\n",
              "          dataTable['output_type'] = 'display_data';\n",
              "          await google.colab.output.renderOutput(dataTable, element);\n",
              "          const docLink = document.createElement('div');\n",
              "          docLink.innerHTML = docLinkHtml;\n",
              "          element.appendChild(docLink);\n",
              "        }\n",
              "      </script>\n",
              "    </div>\n",
              "  </div>\n",
              "  "
            ]
          },
          "metadata": {},
          "execution_count": 63
        }
      ],
      "source": [
        "df_try"
      ]
    },
    {
      "cell_type": "code",
      "execution_count": null,
      "metadata": {
        "id": "zvs79Jns2qda"
      },
      "outputs": [],
      "source": [
        "# memasukkan classifier \n",
        "clf_filename = 'naive_bayes_classifier.pkl'\n",
        "nb_clf = pickle.load(open(clf_filename, 'rb'))\n",
        "\n",
        "# memvectorized text baru\n",
        "vec_filename = 'count_vectorizer.pkl'\n",
        "vectorizer = pickle.load(open(vec_filename, 'rb'))\n",
        "labeled = []\n",
        "for word in df_try['text']:\n",
        "  pred = nb_clf.predict(vectorizer.transform([word]))\n",
        "  labeled.append(pred)"
      ]
    },
    {
      "cell_type": "code",
      "execution_count": null,
      "metadata": {
        "id": "-AYDgZds2so5",
        "colab": {
          "base_uri": "https://localhost:8080/",
          "height": 424
        },
        "outputId": "65a2bd52-f768-433d-b79a-3c9386ba05f5"
      },
      "outputs": [
        {
          "output_type": "execute_result",
          "data": {
            "text/plain": [
              "                                                   text  label\n",
              "0     \\n \"Kok udah bangun?\" tanya Aron\\n\\n\\n \"Laper ...      3\n",
              "1     \\n .....\\n\\n\\n Usman ke samping rumah sebelah ...      0\n",
              "2     \\n \"Ko cuman sebentar?\" Tanya Fiolla, dengan w...      3\n",
              "3     \\n Setelah Frye selesai, mereka menunggu saat ...      2\n",
              "4     \\n \"Percayalah Yati! Kau bersedia, kan?\" Yati ...      0\n",
              "...                                                 ...    ...\n",
              "3995  \\n \"Waalaikumsalam, hati hati Ron bawa mobilny...      3\n",
              "3996   Menghentikan satu meter di depan balok es tra...      2\n",
              "3997  \\n Terdengar suara kuda meringkik. Kuda yang k...      1\n",
              "3998  \\n Meski hanya terjadi sesaat.\\n\\n\\n Tapi itu ...      2\n",
              "3999  \\n \"Terkadang perlu pengorbanan, untuk menyamp...      2\n",
              "\n",
              "[4000 rows x 2 columns]"
            ],
            "text/html": [
              "\n",
              "  <div id=\"df-26633b00-66ec-42b1-9d11-e1f456812ec6\">\n",
              "    <div class=\"colab-df-container\">\n",
              "      <div>\n",
              "<style scoped>\n",
              "    .dataframe tbody tr th:only-of-type {\n",
              "        vertical-align: middle;\n",
              "    }\n",
              "\n",
              "    .dataframe tbody tr th {\n",
              "        vertical-align: top;\n",
              "    }\n",
              "\n",
              "    .dataframe thead th {\n",
              "        text-align: right;\n",
              "    }\n",
              "</style>\n",
              "<table border=\"1\" class=\"dataframe\">\n",
              "  <thead>\n",
              "    <tr style=\"text-align: right;\">\n",
              "      <th></th>\n",
              "      <th>text</th>\n",
              "      <th>label</th>\n",
              "    </tr>\n",
              "  </thead>\n",
              "  <tbody>\n",
              "    <tr>\n",
              "      <th>0</th>\n",
              "      <td>\\n \"Kok udah bangun?\" tanya Aron\\n\\n\\n \"Laper ...</td>\n",
              "      <td>3</td>\n",
              "    </tr>\n",
              "    <tr>\n",
              "      <th>1</th>\n",
              "      <td>\\n .....\\n\\n\\n Usman ke samping rumah sebelah ...</td>\n",
              "      <td>0</td>\n",
              "    </tr>\n",
              "    <tr>\n",
              "      <th>2</th>\n",
              "      <td>\\n \"Ko cuman sebentar?\" Tanya Fiolla, dengan w...</td>\n",
              "      <td>3</td>\n",
              "    </tr>\n",
              "    <tr>\n",
              "      <th>3</th>\n",
              "      <td>\\n Setelah Frye selesai, mereka menunggu saat ...</td>\n",
              "      <td>2</td>\n",
              "    </tr>\n",
              "    <tr>\n",
              "      <th>4</th>\n",
              "      <td>\\n \"Percayalah Yati! Kau bersedia, kan?\" Yati ...</td>\n",
              "      <td>0</td>\n",
              "    </tr>\n",
              "    <tr>\n",
              "      <th>...</th>\n",
              "      <td>...</td>\n",
              "      <td>...</td>\n",
              "    </tr>\n",
              "    <tr>\n",
              "      <th>3995</th>\n",
              "      <td>\\n \"Waalaikumsalam, hati hati Ron bawa mobilny...</td>\n",
              "      <td>3</td>\n",
              "    </tr>\n",
              "    <tr>\n",
              "      <th>3996</th>\n",
              "      <td>Menghentikan satu meter di depan balok es tra...</td>\n",
              "      <td>2</td>\n",
              "    </tr>\n",
              "    <tr>\n",
              "      <th>3997</th>\n",
              "      <td>\\n Terdengar suara kuda meringkik. Kuda yang k...</td>\n",
              "      <td>1</td>\n",
              "    </tr>\n",
              "    <tr>\n",
              "      <th>3998</th>\n",
              "      <td>\\n Meski hanya terjadi sesaat.\\n\\n\\n Tapi itu ...</td>\n",
              "      <td>2</td>\n",
              "    </tr>\n",
              "    <tr>\n",
              "      <th>3999</th>\n",
              "      <td>\\n \"Terkadang perlu pengorbanan, untuk menyamp...</td>\n",
              "      <td>2</td>\n",
              "    </tr>\n",
              "  </tbody>\n",
              "</table>\n",
              "<p>4000 rows × 2 columns</p>\n",
              "</div>\n",
              "      <button class=\"colab-df-convert\" onclick=\"convertToInteractive('df-26633b00-66ec-42b1-9d11-e1f456812ec6')\"\n",
              "              title=\"Convert this dataframe to an interactive table.\"\n",
              "              style=\"display:none;\">\n",
              "        \n",
              "  <svg xmlns=\"http://www.w3.org/2000/svg\" height=\"24px\"viewBox=\"0 0 24 24\"\n",
              "       width=\"24px\">\n",
              "    <path d=\"M0 0h24v24H0V0z\" fill=\"none\"/>\n",
              "    <path d=\"M18.56 5.44l.94 2.06.94-2.06 2.06-.94-2.06-.94-.94-2.06-.94 2.06-2.06.94zm-11 1L8.5 8.5l.94-2.06 2.06-.94-2.06-.94L8.5 2.5l-.94 2.06-2.06.94zm10 10l.94 2.06.94-2.06 2.06-.94-2.06-.94-.94-2.06-.94 2.06-2.06.94z\"/><path d=\"M17.41 7.96l-1.37-1.37c-.4-.4-.92-.59-1.43-.59-.52 0-1.04.2-1.43.59L10.3 9.45l-7.72 7.72c-.78.78-.78 2.05 0 2.83L4 21.41c.39.39.9.59 1.41.59.51 0 1.02-.2 1.41-.59l7.78-7.78 2.81-2.81c.8-.78.8-2.07 0-2.86zM5.41 20L4 18.59l7.72-7.72 1.47 1.35L5.41 20z\"/>\n",
              "  </svg>\n",
              "      </button>\n",
              "      \n",
              "  <style>\n",
              "    .colab-df-container {\n",
              "      display:flex;\n",
              "      flex-wrap:wrap;\n",
              "      gap: 12px;\n",
              "    }\n",
              "\n",
              "    .colab-df-convert {\n",
              "      background-color: #E8F0FE;\n",
              "      border: none;\n",
              "      border-radius: 50%;\n",
              "      cursor: pointer;\n",
              "      display: none;\n",
              "      fill: #1967D2;\n",
              "      height: 32px;\n",
              "      padding: 0 0 0 0;\n",
              "      width: 32px;\n",
              "    }\n",
              "\n",
              "    .colab-df-convert:hover {\n",
              "      background-color: #E2EBFA;\n",
              "      box-shadow: 0px 1px 2px rgba(60, 64, 67, 0.3), 0px 1px 3px 1px rgba(60, 64, 67, 0.15);\n",
              "      fill: #174EA6;\n",
              "    }\n",
              "\n",
              "    [theme=dark] .colab-df-convert {\n",
              "      background-color: #3B4455;\n",
              "      fill: #D2E3FC;\n",
              "    }\n",
              "\n",
              "    [theme=dark] .colab-df-convert:hover {\n",
              "      background-color: #434B5C;\n",
              "      box-shadow: 0px 1px 3px 1px rgba(0, 0, 0, 0.15);\n",
              "      filter: drop-shadow(0px 1px 2px rgba(0, 0, 0, 0.3));\n",
              "      fill: #FFFFFF;\n",
              "    }\n",
              "  </style>\n",
              "\n",
              "      <script>\n",
              "        const buttonEl =\n",
              "          document.querySelector('#df-26633b00-66ec-42b1-9d11-e1f456812ec6 button.colab-df-convert');\n",
              "        buttonEl.style.display =\n",
              "          google.colab.kernel.accessAllowed ? 'block' : 'none';\n",
              "\n",
              "        async function convertToInteractive(key) {\n",
              "          const element = document.querySelector('#df-26633b00-66ec-42b1-9d11-e1f456812ec6');\n",
              "          const dataTable =\n",
              "            await google.colab.kernel.invokeFunction('convertToInteractive',\n",
              "                                                     [key], {});\n",
              "          if (!dataTable) return;\n",
              "\n",
              "          const docLinkHtml = 'Like what you see? Visit the ' +\n",
              "            '<a target=\"_blank\" href=https://colab.research.google.com/notebooks/data_table.ipynb>data table notebook</a>'\n",
              "            + ' to learn more about interactive tables.';\n",
              "          element.innerHTML = '';\n",
              "          dataTable['output_type'] = 'display_data';\n",
              "          await google.colab.output.renderOutput(dataTable, element);\n",
              "          const docLink = document.createElement('div');\n",
              "          docLink.innerHTML = docLinkHtml;\n",
              "          element.appendChild(docLink);\n",
              "        }\n",
              "      </script>\n",
              "    </div>\n",
              "  </div>\n",
              "  "
            ]
          },
          "metadata": {},
          "execution_count": 65
        }
      ],
      "source": [
        "final = pd.DataFrame(labeled, columns = ['label'])\n",
        "result = pd.concat([df_try,final], axis=1, join='inner')\n",
        "result"
      ]
    },
    {
      "cell_type": "code",
      "execution_count": null,
      "metadata": {
        "id": "0Nr6rrlBTU8_",
        "colab": {
          "base_uri": "https://localhost:8080/",
          "height": 424
        },
        "outputId": "10135160-82d1-41f8-e110-ae618779cfa4"
      },
      "outputs": [
        {
          "output_type": "execute_result",
          "data": {
            "text/plain": [
              "                                                   text  label         genre\n",
              "0     \\n \"Kok udah bangun?\" tanya Aron\\n\\n\\n \"Laper ...      3  Fiksi Remaja\n",
              "1     \\n .....\\n\\n\\n Usman ke samping rumah sebelah ...      0         Horor\n",
              "2     \\n \"Ko cuman sebentar?\" Tanya Fiolla, dengan w...      3  Fiksi Remaja\n",
              "3     \\n Setelah Frye selesai, mereka menunggu saat ...      2  Fiksi Ilmiah\n",
              "4     \\n \"Percayalah Yati! Kau bersedia, kan?\" Yati ...      0         Horor\n",
              "...                                                 ...    ...           ...\n",
              "3995  \\n \"Waalaikumsalam, hati hati Ron bawa mobilny...      3  Fiksi Remaja\n",
              "3996   Menghentikan satu meter di depan balok es tra...      2  Fiksi Ilmiah\n",
              "3997  \\n Terdengar suara kuda meringkik. Kuda yang k...      1       Fantasi\n",
              "3998  \\n Meski hanya terjadi sesaat.\\n\\n\\n Tapi itu ...      2  Fiksi Ilmiah\n",
              "3999  \\n \"Terkadang perlu pengorbanan, untuk menyamp...      2  Fiksi Ilmiah\n",
              "\n",
              "[4000 rows x 3 columns]"
            ],
            "text/html": [
              "\n",
              "  <div id=\"df-00378c03-8002-46a9-bdbc-dc516ad1c55a\">\n",
              "    <div class=\"colab-df-container\">\n",
              "      <div>\n",
              "<style scoped>\n",
              "    .dataframe tbody tr th:only-of-type {\n",
              "        vertical-align: middle;\n",
              "    }\n",
              "\n",
              "    .dataframe tbody tr th {\n",
              "        vertical-align: top;\n",
              "    }\n",
              "\n",
              "    .dataframe thead th {\n",
              "        text-align: right;\n",
              "    }\n",
              "</style>\n",
              "<table border=\"1\" class=\"dataframe\">\n",
              "  <thead>\n",
              "    <tr style=\"text-align: right;\">\n",
              "      <th></th>\n",
              "      <th>text</th>\n",
              "      <th>label</th>\n",
              "      <th>genre</th>\n",
              "    </tr>\n",
              "  </thead>\n",
              "  <tbody>\n",
              "    <tr>\n",
              "      <th>0</th>\n",
              "      <td>\\n \"Kok udah bangun?\" tanya Aron\\n\\n\\n \"Laper ...</td>\n",
              "      <td>3</td>\n",
              "      <td>Fiksi Remaja</td>\n",
              "    </tr>\n",
              "    <tr>\n",
              "      <th>1</th>\n",
              "      <td>\\n .....\\n\\n\\n Usman ke samping rumah sebelah ...</td>\n",
              "      <td>0</td>\n",
              "      <td>Horor</td>\n",
              "    </tr>\n",
              "    <tr>\n",
              "      <th>2</th>\n",
              "      <td>\\n \"Ko cuman sebentar?\" Tanya Fiolla, dengan w...</td>\n",
              "      <td>3</td>\n",
              "      <td>Fiksi Remaja</td>\n",
              "    </tr>\n",
              "    <tr>\n",
              "      <th>3</th>\n",
              "      <td>\\n Setelah Frye selesai, mereka menunggu saat ...</td>\n",
              "      <td>2</td>\n",
              "      <td>Fiksi Ilmiah</td>\n",
              "    </tr>\n",
              "    <tr>\n",
              "      <th>4</th>\n",
              "      <td>\\n \"Percayalah Yati! Kau bersedia, kan?\" Yati ...</td>\n",
              "      <td>0</td>\n",
              "      <td>Horor</td>\n",
              "    </tr>\n",
              "    <tr>\n",
              "      <th>...</th>\n",
              "      <td>...</td>\n",
              "      <td>...</td>\n",
              "      <td>...</td>\n",
              "    </tr>\n",
              "    <tr>\n",
              "      <th>3995</th>\n",
              "      <td>\\n \"Waalaikumsalam, hati hati Ron bawa mobilny...</td>\n",
              "      <td>3</td>\n",
              "      <td>Fiksi Remaja</td>\n",
              "    </tr>\n",
              "    <tr>\n",
              "      <th>3996</th>\n",
              "      <td>Menghentikan satu meter di depan balok es tra...</td>\n",
              "      <td>2</td>\n",
              "      <td>Fiksi Ilmiah</td>\n",
              "    </tr>\n",
              "    <tr>\n",
              "      <th>3997</th>\n",
              "      <td>\\n Terdengar suara kuda meringkik. Kuda yang k...</td>\n",
              "      <td>1</td>\n",
              "      <td>Fantasi</td>\n",
              "    </tr>\n",
              "    <tr>\n",
              "      <th>3998</th>\n",
              "      <td>\\n Meski hanya terjadi sesaat.\\n\\n\\n Tapi itu ...</td>\n",
              "      <td>2</td>\n",
              "      <td>Fiksi Ilmiah</td>\n",
              "    </tr>\n",
              "    <tr>\n",
              "      <th>3999</th>\n",
              "      <td>\\n \"Terkadang perlu pengorbanan, untuk menyamp...</td>\n",
              "      <td>2</td>\n",
              "      <td>Fiksi Ilmiah</td>\n",
              "    </tr>\n",
              "  </tbody>\n",
              "</table>\n",
              "<p>4000 rows × 3 columns</p>\n",
              "</div>\n",
              "      <button class=\"colab-df-convert\" onclick=\"convertToInteractive('df-00378c03-8002-46a9-bdbc-dc516ad1c55a')\"\n",
              "              title=\"Convert this dataframe to an interactive table.\"\n",
              "              style=\"display:none;\">\n",
              "        \n",
              "  <svg xmlns=\"http://www.w3.org/2000/svg\" height=\"24px\"viewBox=\"0 0 24 24\"\n",
              "       width=\"24px\">\n",
              "    <path d=\"M0 0h24v24H0V0z\" fill=\"none\"/>\n",
              "    <path d=\"M18.56 5.44l.94 2.06.94-2.06 2.06-.94-2.06-.94-.94-2.06-.94 2.06-2.06.94zm-11 1L8.5 8.5l.94-2.06 2.06-.94-2.06-.94L8.5 2.5l-.94 2.06-2.06.94zm10 10l.94 2.06.94-2.06 2.06-.94-2.06-.94-.94-2.06-.94 2.06-2.06.94z\"/><path d=\"M17.41 7.96l-1.37-1.37c-.4-.4-.92-.59-1.43-.59-.52 0-1.04.2-1.43.59L10.3 9.45l-7.72 7.72c-.78.78-.78 2.05 0 2.83L4 21.41c.39.39.9.59 1.41.59.51 0 1.02-.2 1.41-.59l7.78-7.78 2.81-2.81c.8-.78.8-2.07 0-2.86zM5.41 20L4 18.59l7.72-7.72 1.47 1.35L5.41 20z\"/>\n",
              "  </svg>\n",
              "      </button>\n",
              "      \n",
              "  <style>\n",
              "    .colab-df-container {\n",
              "      display:flex;\n",
              "      flex-wrap:wrap;\n",
              "      gap: 12px;\n",
              "    }\n",
              "\n",
              "    .colab-df-convert {\n",
              "      background-color: #E8F0FE;\n",
              "      border: none;\n",
              "      border-radius: 50%;\n",
              "      cursor: pointer;\n",
              "      display: none;\n",
              "      fill: #1967D2;\n",
              "      height: 32px;\n",
              "      padding: 0 0 0 0;\n",
              "      width: 32px;\n",
              "    }\n",
              "\n",
              "    .colab-df-convert:hover {\n",
              "      background-color: #E2EBFA;\n",
              "      box-shadow: 0px 1px 2px rgba(60, 64, 67, 0.3), 0px 1px 3px 1px rgba(60, 64, 67, 0.15);\n",
              "      fill: #174EA6;\n",
              "    }\n",
              "\n",
              "    [theme=dark] .colab-df-convert {\n",
              "      background-color: #3B4455;\n",
              "      fill: #D2E3FC;\n",
              "    }\n",
              "\n",
              "    [theme=dark] .colab-df-convert:hover {\n",
              "      background-color: #434B5C;\n",
              "      box-shadow: 0px 1px 3px 1px rgba(0, 0, 0, 0.15);\n",
              "      filter: drop-shadow(0px 1px 2px rgba(0, 0, 0, 0.3));\n",
              "      fill: #FFFFFF;\n",
              "    }\n",
              "  </style>\n",
              "\n",
              "      <script>\n",
              "        const buttonEl =\n",
              "          document.querySelector('#df-00378c03-8002-46a9-bdbc-dc516ad1c55a button.colab-df-convert');\n",
              "        buttonEl.style.display =\n",
              "          google.colab.kernel.accessAllowed ? 'block' : 'none';\n",
              "\n",
              "        async function convertToInteractive(key) {\n",
              "          const element = document.querySelector('#df-00378c03-8002-46a9-bdbc-dc516ad1c55a');\n",
              "          const dataTable =\n",
              "            await google.colab.kernel.invokeFunction('convertToInteractive',\n",
              "                                                     [key], {});\n",
              "          if (!dataTable) return;\n",
              "\n",
              "          const docLinkHtml = 'Like what you see? Visit the ' +\n",
              "            '<a target=\"_blank\" href=https://colab.research.google.com/notebooks/data_table.ipynb>data table notebook</a>'\n",
              "            + ' to learn more about interactive tables.';\n",
              "          element.innerHTML = '';\n",
              "          dataTable['output_type'] = 'display_data';\n",
              "          await google.colab.output.renderOutput(dataTable, element);\n",
              "          const docLink = document.createElement('div');\n",
              "          docLink.innerHTML = docLinkHtml;\n",
              "          element.appendChild(docLink);\n",
              "        }\n",
              "      </script>\n",
              "    </div>\n",
              "  </div>\n",
              "  "
            ]
          },
          "metadata": {},
          "execution_count": 66
        }
      ],
      "source": [
        "conditions = [\n",
        "    (result['label'] == 0),\n",
        "    (result['label'] == 1),\n",
        "    (result['label'] == 2),\n",
        "    (result['label'] == 3)\n",
        "]\n",
        "\n",
        "values = [\"Horor\",\"Fantasi\",\"Fiksi Ilmiah\",\"Fiksi Remaja\"]\n",
        "\n",
        "result['genre'] = np.select(conditions, values)\n",
        "result"
      ]
    },
    {
      "cell_type": "code",
      "execution_count": null,
      "metadata": {
        "id": "xeCK0DVOVocb",
        "colab": {
          "base_uri": "https://localhost:8080/"
        },
        "outputId": "25b41ed1-7a88-4290-d4a0-3078a44a0e93"
      },
      "outputs": [
        {
          "output_type": "stream",
          "name": "stdout",
          "text": [
            "cp: 'submission12.csv' and '/content/drive/MyDrive/Dataset Data Science Teti/submission12.csv' are the same file\n"
          ]
        }
      ],
      "source": [
        "submission = pd.concat([df_num,result],axis = 1 , join='inner')\n",
        "submission = submission.drop(['text','label'], axis=1)\n",
        "submission\n",
        "submission.to_csv('submission12.csv',index = False)\n",
        "!cp submission12.csv \"/content/drive/MyDrive/Dataset Data Science Teti\""
      ]
    },
    {
      "cell_type": "code",
      "source": [
        "testing = pd.read_csv(\"submission7.csv\")\n",
        "testing['genre'].value_counts()"
      ],
      "metadata": {
        "id": "-H8NLiAlMeY6",
        "colab": {
          "base_uri": "https://localhost:8080/"
        },
        "outputId": "3dd8ab6f-46fe-478b-a78a-7793ce1c76e5"
      },
      "execution_count": null,
      "outputs": [
        {
          "output_type": "execute_result",
          "data": {
            "text/plain": [
              "Fiksi Ilmiah    1165\n",
              "Fiksi Remaja    1019\n",
              "Fantasi          966\n",
              "Horor            850\n",
              "Name: genre, dtype: int64"
            ]
          },
          "metadata": {},
          "execution_count": 68
        }
      ]
    },
    {
      "cell_type": "code",
      "source": [
        "testing2= pd.read_csv('submission3.csv')\n",
        "testing2['genre'].value_counts()"
      ],
      "metadata": {
        "colab": {
          "base_uri": "https://localhost:8080/"
        },
        "id": "o23YNzhtNPkO",
        "outputId": "092b48d6-7b11-4b0f-ce2f-ba7116ae6664"
      },
      "execution_count": null,
      "outputs": [
        {
          "output_type": "execute_result",
          "data": {
            "text/plain": [
              "Fiksi Ilmiah    1789\n",
              "Fiksi Remaja    1022\n",
              "Fantasi          642\n",
              "Horor            547\n",
              "Name: genre, dtype: int64"
            ]
          },
          "metadata": {},
          "execution_count": 69
        }
      ]
    },
    {
      "cell_type": "code",
      "source": [
        "testing2= pd.read_csv('submission12.csv')\n",
        "testing2['genre'].value_counts()"
      ],
      "metadata": {
        "colab": {
          "base_uri": "https://localhost:8080/"
        },
        "id": "OecdN90sqV6d",
        "outputId": "13f64a10-33ec-4d04-a082-ace7e5611bc8"
      },
      "execution_count": null,
      "outputs": [
        {
          "output_type": "execute_result",
          "data": {
            "text/plain": [
              "Fiksi Ilmiah    1320\n",
              "Fiksi Remaja    1023\n",
              "Fantasi          871\n",
              "Horor            786\n",
              "Name: genre, dtype: int64"
            ]
          },
          "metadata": {},
          "execution_count": 72
        }
      ]
    }
  ],
  "metadata": {
    "accelerator": "GPU",
    "colab": {
      "provenance": [],
      "collapsed_sections": []
    },
    "gpuClass": "standard",
    "kernelspec": {
      "display_name": "Python 3",
      "name": "python3"
    },
    "language_info": {
      "name": "python"
    }
  },
  "nbformat": 4,
  "nbformat_minor": 0
}